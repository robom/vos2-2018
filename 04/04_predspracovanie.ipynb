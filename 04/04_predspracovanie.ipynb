{
 "cells": [
  {
   "cell_type": "markdown",
   "metadata": {},
   "source": [
    "# Predspracovanie údajov\n",
    "\n",
    "> ## Chýbajúce hodnoty\n",
    "\n",
    "> ## Vychýlené hodnoty\n",
    "\n",
    "> ## Normalizácia údajov\n",
    "\n",
    "> ## Transformácia numerických atribútov na kategorické\n",
    "\n",
    "> ## Transformácia kategorických údajov na numerické\n",
    "\n",
    "> ## Vytváranie atribútov kombinovaním"
   ]
  },
  {
   "cell_type": "markdown",
   "metadata": {},
   "source": [
    "Na predspracovanie odporúčame využiť knižnicu `scikit-learn`. Možnosti, ktoré na predspracovanie ponúka, nájdete tu: http://scikit-learn.org/stable/modules/preprocessing.html\n",
    "\n",
    "Vyčerpávajúci zoznam množstva ďalších vecí, čo sa dá robiť pri príprave dát a tvorbe čŕt nájdete tu: http://www.datasciencecentral.com/profiles/blogs/feature-engineering-data-scientist-s-secret-sauce-1\n",
    "\n",
    "Pekne spracované je predspracovanie a čistenie dát aj tu (akurát s príkladmi v R, nie pythone): https://cran.r-project.org/doc/contrib/de_Jonge+van_der_Loo-Introduction_to_data_cleaning_with_R.pdf Zaujímavá je hlavne časť k chýbajúcim a vychýleným hodnotám."
   ]
  },
  {
   "cell_type": "code",
   "execution_count": 1,
   "metadata": {
    "collapsed": true
   },
   "outputs": [],
   "source": [
    "%matplotlib inline\n",
    "import pandas as pd\n",
    "import numpy as np\n",
    "import matplotlib.pyplot as plt\n",
    "import seaborn\n",
    "from sklearn import preprocessing\n",
    "\n",
    "plt.rcParams['figure.figsize'] = 6, 4\n",
    "from IPython.display import Image"
   ]
  },
  {
   "cell_type": "markdown",
   "metadata": {},
   "source": [
    "# Chýbajuce hodnoty\n",
    "\n",
    "Existujú viaceré stratégie nahrádzania chýbajúcich hodnôt. Medzi najčastejšie patria:\n",
    "\n",
    "* nahradenie chýbajúcej hodnoty mediánom\n",
    "* nahradenie chýbajúcej hodnoty priemerom\n",
    "* nahradenie chýbajúcej hodnoty pomerom ku korelovanému atribútu\n",
    "* nahradenie chýbajúcej hodnoty priemerom segmentu\n",
    "* nahradenie chýbajúcej hodnoty pomocou lineárnej regresie\n",
    "* nahradenie chýbajúcej hodnoty pomocou algoritmu k-najbližších\n",
    "susedov"
   ]
  },
  {
   "cell_type": "code",
   "execution_count": 2,
   "metadata": {
    "collapsed": true
   },
   "outputs": [
    {
     "data": {
      "text/html": [
       "<div>\n",
       "<style scoped>\n",
       "    .dataframe tbody tr th:only-of-type {\n",
       "        vertical-align: middle;\n",
       "    }\n",
       "\n",
       "    .dataframe tbody tr th {\n",
       "        vertical-align: top;\n",
       "    }\n",
       "\n",
       "    .dataframe thead th {\n",
       "        text-align: right;\n",
       "    }\n",
       "</style>\n",
       "<table border=\"1\" class=\"dataframe\">\n",
       "  <thead>\n",
       "    <tr style=\"text-align: right;\">\n",
       "      <th></th>\n",
       "      <th>sepal_length_cm</th>\n",
       "      <th>sepal_width_cm</th>\n",
       "      <th>petal_length_cm</th>\n",
       "      <th>petal_width_cm</th>\n",
       "      <th>class</th>\n",
       "    </tr>\n",
       "  </thead>\n",
       "  <tbody>\n",
       "    <tr>\n",
       "      <th>0</th>\n",
       "      <td>5.1</td>\n",
       "      <td>3.5</td>\n",
       "      <td>1.4</td>\n",
       "      <td>0.2</td>\n",
       "      <td>Iris-setosa</td>\n",
       "    </tr>\n",
       "    <tr>\n",
       "      <th>1</th>\n",
       "      <td>4.9</td>\n",
       "      <td>3.0</td>\n",
       "      <td>1.4</td>\n",
       "      <td>0.2</td>\n",
       "      <td>Iris-setosa</td>\n",
       "    </tr>\n",
       "    <tr>\n",
       "      <th>2</th>\n",
       "      <td>4.7</td>\n",
       "      <td>3.2</td>\n",
       "      <td>1.3</td>\n",
       "      <td>0.2</td>\n",
       "      <td>Iris-setosa</td>\n",
       "    </tr>\n",
       "    <tr>\n",
       "      <th>3</th>\n",
       "      <td>4.6</td>\n",
       "      <td>3.1</td>\n",
       "      <td>1.5</td>\n",
       "      <td>0.2</td>\n",
       "      <td>Iris-setosa</td>\n",
       "    </tr>\n",
       "    <tr>\n",
       "      <th>4</th>\n",
       "      <td>5.0</td>\n",
       "      <td>3.6</td>\n",
       "      <td>1.4</td>\n",
       "      <td>0.2</td>\n",
       "      <td>Iris-setosa</td>\n",
       "    </tr>\n",
       "  </tbody>\n",
       "</table>\n",
       "</div>"
      ],
      "text/plain": [
       "   sepal_length_cm  sepal_width_cm  petal_length_cm  petal_width_cm  \\\n",
       "0              5.1             3.5              1.4             0.2   \n",
       "1              4.9             3.0              1.4             0.2   \n",
       "2              4.7             3.2              1.3             0.2   \n",
       "3              4.6             3.1              1.5             0.2   \n",
       "4              5.0             3.6              1.4             0.2   \n",
       "\n",
       "         class  \n",
       "0  Iris-setosa  \n",
       "1  Iris-setosa  \n",
       "2  Iris-setosa  \n",
       "3  Iris-setosa  \n",
       "4  Iris-setosa  "
      ]
     },
     "execution_count": 2,
     "metadata": {},
     "output_type": "execute_result"
    }
   ],
   "source": [
    "iris_data = pd.read_csv('data/iris-data.csv')\n",
    "iris_data.head()\n",
    "# toto je trochu spotvoreny dataset kvetiniek"
   ]
  },
  {
   "cell_type": "code",
   "execution_count": 3,
   "metadata": {},
   "outputs": [
    {
     "name": "stdout",
     "output_type": "stream",
     "text": [
      "<class 'pandas.core.frame.DataFrame'>\n",
      "RangeIndex: 150 entries, 0 to 149\n",
      "Data columns (total 5 columns):\n",
      "sepal_length_cm    150 non-null float64\n",
      "sepal_width_cm     150 non-null float64\n",
      "petal_length_cm    150 non-null float64\n",
      "petal_width_cm     145 non-null float64\n",
      "class              150 non-null object\n",
      "dtypes: float64(4), object(1)\n",
      "memory usage: 5.9+ KB\n"
     ]
    }
   ],
   "source": [
    "iris_data.info()"
   ]
  },
  {
   "cell_type": "code",
   "execution_count": 4,
   "metadata": {},
   "outputs": [
    {
     "data": {
      "text/html": [
       "<div>\n",
       "<style scoped>\n",
       "    .dataframe tbody tr th:only-of-type {\n",
       "        vertical-align: middle;\n",
       "    }\n",
       "\n",
       "    .dataframe tbody tr th {\n",
       "        vertical-align: top;\n",
       "    }\n",
       "\n",
       "    .dataframe thead th {\n",
       "        text-align: right;\n",
       "    }\n",
       "</style>\n",
       "<table border=\"1\" class=\"dataframe\">\n",
       "  <thead>\n",
       "    <tr style=\"text-align: right;\">\n",
       "      <th></th>\n",
       "      <th>sepal_length_cm</th>\n",
       "      <th>sepal_width_cm</th>\n",
       "      <th>petal_length_cm</th>\n",
       "      <th>petal_width_cm</th>\n",
       "      <th>class</th>\n",
       "    </tr>\n",
       "  </thead>\n",
       "  <tbody>\n",
       "    <tr>\n",
       "      <th>7</th>\n",
       "      <td>5.0</td>\n",
       "      <td>3.4</td>\n",
       "      <td>1.5</td>\n",
       "      <td>NaN</td>\n",
       "      <td>Iris-setosa</td>\n",
       "    </tr>\n",
       "    <tr>\n",
       "      <th>8</th>\n",
       "      <td>4.4</td>\n",
       "      <td>2.9</td>\n",
       "      <td>1.4</td>\n",
       "      <td>NaN</td>\n",
       "      <td>Iris-setosa</td>\n",
       "    </tr>\n",
       "    <tr>\n",
       "      <th>9</th>\n",
       "      <td>4.9</td>\n",
       "      <td>3.1</td>\n",
       "      <td>1.5</td>\n",
       "      <td>NaN</td>\n",
       "      <td>Iris-setosa</td>\n",
       "    </tr>\n",
       "    <tr>\n",
       "      <th>10</th>\n",
       "      <td>5.4</td>\n",
       "      <td>3.7</td>\n",
       "      <td>1.5</td>\n",
       "      <td>NaN</td>\n",
       "      <td>Iris-setosa</td>\n",
       "    </tr>\n",
       "    <tr>\n",
       "      <th>11</th>\n",
       "      <td>4.8</td>\n",
       "      <td>3.4</td>\n",
       "      <td>1.6</td>\n",
       "      <td>NaN</td>\n",
       "      <td>Iris-setosa</td>\n",
       "    </tr>\n",
       "  </tbody>\n",
       "</table>\n",
       "</div>"
      ],
      "text/plain": [
       "    sepal_length_cm  sepal_width_cm  petal_length_cm  petal_width_cm  \\\n",
       "7               5.0             3.4              1.5             NaN   \n",
       "8               4.4             2.9              1.4             NaN   \n",
       "9               4.9             3.1              1.5             NaN   \n",
       "10              5.4             3.7              1.5             NaN   \n",
       "11              4.8             3.4              1.6             NaN   \n",
       "\n",
       "          class  \n",
       "7   Iris-setosa  \n",
       "8   Iris-setosa  \n",
       "9   Iris-setosa  \n",
       "10  Iris-setosa  \n",
       "11  Iris-setosa  "
      ]
     },
     "execution_count": 4,
     "metadata": {},
     "output_type": "execute_result"
    }
   ],
   "source": [
    "iris_data[iris_data.isnull().any(axis=1)]"
   ]
  },
  {
   "cell_type": "code",
   "execution_count": 5,
   "metadata": {},
   "outputs": [
    {
     "data": {
      "text/plain": [
       "array(['Iris-setosa', 'Iris-setossa', 'Iris-versicolor', 'versicolor',\n",
       "       'Iris-virginica'], dtype=object)"
      ]
     },
     "execution_count": 5,
     "metadata": {},
     "output_type": "execute_result"
    }
   ],
   "source": [
    "iris_data['class'].unique()"
   ]
  },
  {
   "cell_type": "code",
   "execution_count": 6,
   "metadata": {},
   "outputs": [],
   "source": [
    "iris_data.loc[iris_data['class'] == 'Iris-setossa', 'class'] = 'Iris-setosa'"
   ]
  },
  {
   "cell_type": "code",
   "execution_count": 7,
   "metadata": {},
   "outputs": [],
   "source": [
    "iris_data.loc[iris_data['class'] == 'versicolor', 'class'] = 'Iris-versicolor'"
   ]
  },
  {
   "cell_type": "code",
   "execution_count": 8,
   "metadata": {},
   "outputs": [
    {
     "data": {
      "text/plain": [
       "array(['Iris-setosa', 'Iris-versicolor', 'Iris-virginica'], dtype=object)"
      ]
     },
     "execution_count": 8,
     "metadata": {},
     "output_type": "execute_result"
    }
   ],
   "source": [
    "iris_data['class'].unique()"
   ]
  },
  {
   "cell_type": "code",
   "execution_count": 9,
   "metadata": {},
   "outputs": [
    {
     "data": {
      "text/plain": [
       "1.2365517241379318"
      ]
     },
     "execution_count": 9,
     "metadata": {},
     "output_type": "execute_result"
    }
   ],
   "source": [
    "iris_data.petal_width_cm.mean()"
   ]
  },
  {
   "cell_type": "code",
   "execution_count": 10,
   "metadata": {},
   "outputs": [
    {
     "data": {
      "text/plain": [
       "<matplotlib.axes._subplots.AxesSubplot at 0x20209952c88>"
      ]
     },
     "execution_count": 10,
     "metadata": {},
     "output_type": "execute_result"
    },
    {
     "data": {
      "image/png": "[encoded data removed]",
      "text/plain": [
       "<Figure size 432x288 with 1 Axes>"
      ]
     },
     "metadata": {},
     "output_type": "display_data"
    }
   ],
   "source": [
    "iris_data.petal_width_cm.hist(bins=20)"
   ]
  },
  {
   "cell_type": "code",
   "execution_count": 11,
   "metadata": {},
   "outputs": [
    {
     "name": "stderr",
     "output_type": "stream",
     "text": [
      "C:\\Users\\robom\\Anaconda3\\lib\\site-packages\\statsmodels\\nonparametric\\kde.py:448: RuntimeWarning: invalid value encountered in greater\n",
      "  X = X[np.logical_and(X > clip[0], X < clip[1])] # won't work for two columns.\n",
      "C:\\Users\\robom\\Anaconda3\\lib\\site-packages\\statsmodels\\nonparametric\\kde.py:448: RuntimeWarning: invalid value encountered in less\n",
      "  X = X[np.logical_and(X > clip[0], X < clip[1])] # won't work for two columns.\n"
     ]
    },
    {
     "data": {
      "text/plain": [
       "<matplotlib.axes._subplots.AxesSubplot at 0x20209ce7da0>"
      ]
     },
     "execution_count": 11,
     "metadata": {},
     "output_type": "execute_result"
    },
    {
     "data": {
      "image/png": "[encoded data removed]",
      "text/plain": [
       "<Figure size 432x288 with 1 Axes>"
      ]
     },
     "metadata": {},
     "output_type": "display_data"
    }
   ],
   "source": [
    "seaborn.kdeplot(iris_data.loc[iris_data['class'] == 'Iris-setosa', 'petal_width_cm'], shade=True, label='setosa')\n",
    "seaborn.kdeplot(iris_data.loc[iris_data['class'] == 'Iris-versicolor', 'petal_width_cm'], shade=True, label='versicolor')\n",
    "seaborn.kdeplot(iris_data.loc[iris_data['class'] == 'Iris-virginica', 'petal_width_cm'], shade=True, label='virginica')"
   ]
  },
  {
   "cell_type": "code",
   "execution_count": 12,
   "metadata": {},
   "outputs": [
    {
     "data": {
      "text/plain": [
       "0.25111111111111106"
      ]
     },
     "execution_count": 12,
     "metadata": {},
     "output_type": "execute_result"
    }
   ],
   "source": [
    "setosa_petal_width_mean = iris_data.loc[iris_data['class'] == 'Iris-setosa', 'petal_width_cm'].mean()\n",
    "setosa_petal_width_mean"
   ]
  },
  {
   "cell_type": "code",
   "execution_count": 13,
   "metadata": {},
   "outputs": [],
   "source": [
    "setosa_petal_width_mean = iris_data.loc[iris_data['class'] == 'Iris-setosa', 'petal_width_cm'] = setosa_petal_width_mean"
   ]
  },
  {
   "cell_type": "markdown",
   "metadata": {},
   "source": [
    "Užitočné metódy/knižnice na prácu s chýbajúcimi hodnotami:\n",
    "\n",
    "* `dropna`, `fillna`\n",
    "* `sklearn.preprocessing.Imputer`: http://scikit-learn.org/stable/modules/generated/sklearn.preprocessing.Imputer.html\n",
    "* `fancyimpute`: https://github.com/iskandr/fancyimpute"
   ]
  },
  {
   "cell_type": "markdown",
   "metadata": {},
   "source": [
    "Ďalšie informácie k chýbajúcim hodnotám môžete nájsť tu: https://medium.com/ibm-data-science-experience/missing-data-conundrum-exploration-and-imputation-techniques-9f40abe0fd87"
   ]
  },
  {
   "cell_type": "markdown",
   "metadata": {},
   "source": [
    "# Vychýlené hodnoty"
   ]
  },
  {
   "cell_type": "markdown",
   "metadata": {},
   "source": [
    "Aj pri riešení vychýlených hodnôt možno aplikovať viaceré stratégie:\n",
    "\n",
    "* odstránenie vychýlených (odľahlých) pozorovaní\n",
    "* nahradenie vychýlenej hodnoty hraničnými hodnotami rozdelenia (5 percentilom, resp. 95 percentilom)\n",
    "* transformácia atribútu s vychýlenými hodnotami pomocou zvolenej funkcie (logaritmus, odmocnina a pod.)"
   ]
  },
  {
   "cell_type": "markdown",
   "metadata": {},
   "source": [
    "*Pozor*: Pri rozhodovaní, čo je, a čo nie je vychýlená hodnota, treba brať do úvahy rozdelenie premennej. Určenie vychýlených hodnôt pomocou boxplotu funguje pre normálne rozdelenie. Ak má premenná iné rozdelenie, môžeme ju transformovať (normalizovať)."
   ]
  },
  {
   "cell_type": "markdown",
   "metadata": {},
   "source": [
    "# Normalizácia udajov"
   ]
  },
  {
   "cell_type": "code",
   "execution_count": 14,
   "metadata": {},
   "outputs": [
    {
     "data": {
      "text/html": [
       "<div>\n",
       "<style scoped>\n",
       "    .dataframe tbody tr th:only-of-type {\n",
       "        vertical-align: middle;\n",
       "    }\n",
       "\n",
       "    .dataframe tbody tr th {\n",
       "        vertical-align: top;\n",
       "    }\n",
       "\n",
       "    .dataframe thead th {\n",
       "        text-align: right;\n",
       "    }\n",
       "</style>\n",
       "<table border=\"1\" class=\"dataframe\">\n",
       "  <thead>\n",
       "    <tr style=\"text-align: right;\">\n",
       "      <th></th>\n",
       "      <th>0</th>\n",
       "      <th>1</th>\n",
       "      <th>2</th>\n",
       "      <th>3</th>\n",
       "      <th>4</th>\n",
       "      <th>5</th>\n",
       "      <th>6</th>\n",
       "      <th>7</th>\n",
       "      <th>8</th>\n",
       "      <th>9</th>\n",
       "      <th>...</th>\n",
       "      <th>22</th>\n",
       "      <th>23</th>\n",
       "      <th>24</th>\n",
       "      <th>25</th>\n",
       "      <th>26</th>\n",
       "      <th>27</th>\n",
       "      <th>28</th>\n",
       "      <th>29</th>\n",
       "      <th>30</th>\n",
       "      <th>31</th>\n",
       "    </tr>\n",
       "  </thead>\n",
       "  <tbody>\n",
       "    <tr>\n",
       "      <th>0</th>\n",
       "      <td>2.400931</td>\n",
       "      <td>4.235430</td>\n",
       "      <td>7.147523</td>\n",
       "      <td>0.455781</td>\n",
       "      <td>-1.471710</td>\n",
       "      <td>0.368072</td>\n",
       "      <td>1.402726</td>\n",
       "      <td>3.231591</td>\n",
       "      <td>-1.111184</td>\n",
       "      <td>2.542668</td>\n",
       "      <td>...</td>\n",
       "      <td>-1.278341</td>\n",
       "      <td>0.081948</td>\n",
       "      <td>0.934971</td>\n",
       "      <td>0.988862</td>\n",
       "      <td>-2.817641</td>\n",
       "      <td>0.573825</td>\n",
       "      <td>3.931404</td>\n",
       "      <td>0.204244</td>\n",
       "      <td>10.623778</td>\n",
       "      <td>-8.322258</td>\n",
       "    </tr>\n",
       "    <tr>\n",
       "      <th>1</th>\n",
       "      <td>2.959725</td>\n",
       "      <td>-2.146311</td>\n",
       "      <td>1.201100</td>\n",
       "      <td>4.206000</td>\n",
       "      <td>6.006231</td>\n",
       "      <td>1.064849</td>\n",
       "      <td>-1.838940</td>\n",
       "      <td>-0.227245</td>\n",
       "      <td>-0.346572</td>\n",
       "      <td>-0.451681</td>\n",
       "      <td>...</td>\n",
       "      <td>-3.672226</td>\n",
       "      <td>-1.047564</td>\n",
       "      <td>-1.498405</td>\n",
       "      <td>-0.921323</td>\n",
       "      <td>-0.384467</td>\n",
       "      <td>-1.260944</td>\n",
       "      <td>-0.721455</td>\n",
       "      <td>3.082391</td>\n",
       "      <td>6.122824</td>\n",
       "      <td>-2.656565</td>\n",
       "    </tr>\n",
       "    <tr>\n",
       "      <th>2</th>\n",
       "      <td>3.543542</td>\n",
       "      <td>-0.753945</td>\n",
       "      <td>0.459010</td>\n",
       "      <td>1.193610</td>\n",
       "      <td>4.166587</td>\n",
       "      <td>1.610900</td>\n",
       "      <td>-3.181179</td>\n",
       "      <td>-0.414485</td>\n",
       "      <td>-3.642286</td>\n",
       "      <td>0.527908</td>\n",
       "      <td>...</td>\n",
       "      <td>-5.564399</td>\n",
       "      <td>-0.667491</td>\n",
       "      <td>-2.781279</td>\n",
       "      <td>0.389482</td>\n",
       "      <td>-3.455173</td>\n",
       "      <td>0.395151</td>\n",
       "      <td>1.614165</td>\n",
       "      <td>0.867497</td>\n",
       "      <td>6.588551</td>\n",
       "      <td>-6.279469</td>\n",
       "    </tr>\n",
       "    <tr>\n",
       "      <th>3</th>\n",
       "      <td>-2.940113</td>\n",
       "      <td>1.279881</td>\n",
       "      <td>-2.462053</td>\n",
       "      <td>-0.744649</td>\n",
       "      <td>-1.845080</td>\n",
       "      <td>-2.705489</td>\n",
       "      <td>1.125120</td>\n",
       "      <td>-0.839736</td>\n",
       "      <td>-3.896343</td>\n",
       "      <td>-1.120876</td>\n",
       "      <td>...</td>\n",
       "      <td>3.240573</td>\n",
       "      <td>-0.576021</td>\n",
       "      <td>3.706526</td>\n",
       "      <td>1.195011</td>\n",
       "      <td>-1.887120</td>\n",
       "      <td>-0.813390</td>\n",
       "      <td>-0.098769</td>\n",
       "      <td>0.525311</td>\n",
       "      <td>12.889137</td>\n",
       "      <td>-5.339454</td>\n",
       "    </tr>\n",
       "    <tr>\n",
       "      <th>4</th>\n",
       "      <td>6.907914</td>\n",
       "      <td>-1.035285</td>\n",
       "      <td>-1.841294</td>\n",
       "      <td>-0.060504</td>\n",
       "      <td>4.320388</td>\n",
       "      <td>2.423103</td>\n",
       "      <td>-5.194417</td>\n",
       "      <td>-0.937909</td>\n",
       "      <td>-4.159663</td>\n",
       "      <td>4.763647</td>\n",
       "      <td>...</td>\n",
       "      <td>-0.639724</td>\n",
       "      <td>1.529124</td>\n",
       "      <td>-2.930810</td>\n",
       "      <td>0.347728</td>\n",
       "      <td>-3.324413</td>\n",
       "      <td>3.475989</td>\n",
       "      <td>4.956617</td>\n",
       "      <td>0.037510</td>\n",
       "      <td>5.432440</td>\n",
       "      <td>-2.220027</td>\n",
       "    </tr>\n",
       "  </tbody>\n",
       "</table>\n",
       "<p>5 rows × 32 columns</p>\n",
       "</div>"
      ],
      "text/plain": [
       "         0         1         2         3         4         5         6   \\\n",
       "0  2.400931  4.235430  7.147523  0.455781 -1.471710  0.368072  1.402726   \n",
       "1  2.959725 -2.146311  1.201100  4.206000  6.006231  1.064849 -1.838940   \n",
       "2  3.543542 -0.753945  0.459010  1.193610  4.166587  1.610900 -3.181179   \n",
       "3 -2.940113  1.279881 -2.462053 -0.744649 -1.845080 -2.705489  1.125120   \n",
       "4  6.907914 -1.035285 -1.841294 -0.060504  4.320388  2.423103 -5.194417   \n",
       "\n",
       "         7         8         9     ...           22        23        24  \\\n",
       "0  3.231591 -1.111184  2.542668    ...    -1.278341  0.081948  0.934971   \n",
       "1 -0.227245 -0.346572 -0.451681    ...    -3.672226 -1.047564 -1.498405   \n",
       "2 -0.414485 -3.642286  0.527908    ...    -5.564399 -0.667491 -2.781279   \n",
       "3 -0.839736 -3.896343 -1.120876    ...     3.240573 -0.576021  3.706526   \n",
       "4 -0.937909 -4.159663  4.763647    ...    -0.639724  1.529124 -2.930810   \n",
       "\n",
       "         25        26        27        28        29         30        31  \n",
       "0  0.988862 -2.817641  0.573825  3.931404  0.204244  10.623778 -8.322258  \n",
       "1 -0.921323 -0.384467 -1.260944 -0.721455  3.082391   6.122824 -2.656565  \n",
       "2  0.389482 -3.455173  0.395151  1.614165  0.867497   6.588551 -6.279469  \n",
       "3  1.195011 -1.887120 -0.813390 -0.098769  0.525311  12.889137 -5.339454  \n",
       "4  0.347728 -3.324413  3.475989  4.956617  0.037510   5.432440 -2.220027  \n",
       "\n",
       "[5 rows x 32 columns]"
      ]
     },
     "execution_count": 14,
     "metadata": {},
     "output_type": "execute_result"
    }
   ],
   "source": [
    "data_file = \"./data/x_train.csv\"\n",
    "challenge_data = pd.read_csv(data_file, nrows=1000, sep=',', header=None)\n",
    "challenge_data.head()"
   ]
  },
  {
   "cell_type": "code",
   "execution_count": 15,
   "metadata": {
    "scrolled": true
   },
   "outputs": [
    {
     "name": "stdout",
     "output_type": "stream",
     "text": [
      "<class 'pandas.core.frame.DataFrame'>\n",
      "RangeIndex: 1000 entries, 0 to 999\n",
      "Data columns (total 32 columns):\n",
      "0     1000 non-null float64\n",
      "1     1000 non-null float64\n",
      "2     1000 non-null float64\n",
      "3     1000 non-null float64\n",
      "4     1000 non-null float64\n",
      "5     1000 non-null float64\n",
      "6     1000 non-null float64\n",
      "7     1000 non-null float64\n",
      "8     1000 non-null float64\n",
      "9     1000 non-null float64\n",
      "10    1000 non-null float64\n",
      "11    1000 non-null float64\n",
      "12    1000 non-null float64\n",
      "13    1000 non-null float64\n",
      "14    1000 non-null float64\n",
      "15    1000 non-null float64\n",
      "16    1000 non-null float64\n",
      "17    1000 non-null float64\n",
      "18    1000 non-null float64\n",
      "19    1000 non-null float64\n",
      "20    1000 non-null float64\n",
      "21    1000 non-null float64\n",
      "22    1000 non-null float64\n",
      "23    1000 non-null float64\n",
      "24    1000 non-null float64\n",
      "25    1000 non-null float64\n",
      "26    1000 non-null float64\n",
      "27    1000 non-null float64\n",
      "28    1000 non-null float64\n",
      "29    1000 non-null float64\n",
      "30    1000 non-null float64\n",
      "31    1000 non-null float64\n",
      "dtypes: float64(32)\n",
      "memory usage: 250.1 KB\n"
     ]
    }
   ],
   "source": [
    "challenge_data.info()"
   ]
  },
  {
   "cell_type": "code",
   "execution_count": 16,
   "metadata": {},
   "outputs": [
    {
     "data": {
      "text/plain": [
       "array([[<matplotlib.axes._subplots.AxesSubplot object at 0x0000020209D67358>,\n",
       "        <matplotlib.axes._subplots.AxesSubplot object at 0x0000020209DE7A58>,\n",
       "        <matplotlib.axes._subplots.AxesSubplot object at 0x0000020209E1B0F0>,\n",
       "        <matplotlib.axes._subplots.AxesSubplot object at 0x0000020209E41780>,\n",
       "        <matplotlib.axes._subplots.AxesSubplot object at 0x0000020209E6AE10>,\n",
       "        <matplotlib.axes._subplots.AxesSubplot object at 0x0000020209E6AE48>],\n",
       "       [<matplotlib.axes._subplots.AxesSubplot object at 0x0000020209EC2B70>,\n",
       "        <matplotlib.axes._subplots.AxesSubplot object at 0x0000020209EF5240>,\n",
       "        <matplotlib.axes._subplots.AxesSubplot object at 0x0000020209F1B8D0>,\n",
       "        <matplotlib.axes._subplots.AxesSubplot object at 0x0000020209F45F60>,\n",
       "        <matplotlib.axes._subplots.AxesSubplot object at 0x0000020209F75630>,\n",
       "        <matplotlib.axes._subplots.AxesSubplot object at 0x0000020209F9DCC0>],\n",
       "       [<matplotlib.axes._subplots.AxesSubplot object at 0x0000020209FD0390>,\n",
       "        <matplotlib.axes._subplots.AxesSubplot object at 0x0000020209FF8A20>,\n",
       "        <matplotlib.axes._subplots.AxesSubplot object at 0x000002020A02A0F0>,\n",
       "        <matplotlib.axes._subplots.AxesSubplot object at 0x000002020A051780>,\n",
       "        <matplotlib.axes._subplots.AxesSubplot object at 0x000002020A077E10>,\n",
       "        <matplotlib.axes._subplots.AxesSubplot object at 0x000002020A0AB4E0>],\n",
       "       [<matplotlib.axes._subplots.AxesSubplot object at 0x000002020A0D3B70>,\n",
       "        <matplotlib.axes._subplots.AxesSubplot object at 0x000002020A104240>,\n",
       "        <matplotlib.axes._subplots.AxesSubplot object at 0x000002020A12E8D0>,\n",
       "        <matplotlib.axes._subplots.AxesSubplot object at 0x000002020A157F60>,\n",
       "        <matplotlib.axes._subplots.AxesSubplot object at 0x000002020A186630>,\n",
       "        <matplotlib.axes._subplots.AxesSubplot object at 0x000002020A1AECC0>],\n",
       "       [<matplotlib.axes._subplots.AxesSubplot object at 0x000002020A1E2390>,\n",
       "        <matplotlib.axes._subplots.AxesSubplot object at 0x000002020A208A20>,\n",
       "        <matplotlib.axes._subplots.AxesSubplot object at 0x000002020A2390F0>,\n",
       "        <matplotlib.axes._subplots.AxesSubplot object at 0x0000020209D5D198>,\n",
       "        <matplotlib.axes._subplots.AxesSubplot object at 0x000002020A28B8D0>,\n",
       "        <matplotlib.axes._subplots.AxesSubplot object at 0x000002020A2B5F60>],\n",
       "       [<matplotlib.axes._subplots.AxesSubplot object at 0x000002020A2E4630>,\n",
       "        <matplotlib.axes._subplots.AxesSubplot object at 0x000002020A30ECC0>,\n",
       "        <matplotlib.axes._subplots.AxesSubplot object at 0x000002020A340390>,\n",
       "        <matplotlib.axes._subplots.AxesSubplot object at 0x000002020A368A20>,\n",
       "        <matplotlib.axes._subplots.AxesSubplot object at 0x000002020A39A0F0>,\n",
       "        <matplotlib.axes._subplots.AxesSubplot object at 0x000002020A3C2780>]],\n",
       "      dtype=object)"
      ]
     },
     "execution_count": 16,
     "metadata": {},
     "output_type": "execute_result"
    },
    {
     "data": {
      "image/png": "[encoded data removed]",
      "text/plain": [
       "<Figure size 1296x864 with 36 Axes>"
      ]
     },
     "metadata": {},
     "output_type": "display_data"
    }
   ],
   "source": [
    "challenge_data.hist(figsize=(18, 12))"
   ]
  },
  {
   "cell_type": "code",
   "execution_count": 17,
   "metadata": {},
   "outputs": [
    {
     "data": {
      "text/plain": [
       "Text(0.5,1,'20')"
      ]
     },
     "execution_count": 17,
     "metadata": {},
     "output_type": "execute_result"
    },
    {
     "data": {
      "image/png": "[encoded data removed]",
      "text/plain": [
       "<Figure size 432x288 with 1 Axes>"
      ]
     },
     "metadata": {},
     "output_type": "display_data"
    }
   ],
   "source": [
    "index = 20\n",
    "pom = challenge_data[index].hist(bins=50)\n",
    "pom.set_title(index)"
   ]
  },
  {
   "cell_type": "code",
   "execution_count": 18,
   "metadata": {},
   "outputs": [
    {
     "data": {
      "text/plain": [
       "<matplotlib.axes._subplots.AxesSubplot at 0x2020b1a9c88>"
      ]
     },
     "execution_count": 18,
     "metadata": {},
     "output_type": "execute_result"
    },
    {
     "data": {
      "image/png": "[encoded data removed]",
      "text/plain": [
       "<Figure size 432x288 with 1 Axes>"
      ]
     },
     "metadata": {},
     "output_type": "display_data"
    }
   ],
   "source": [
    "challenge_data[index].plot(kind='box')"
   ]
  },
  {
   "cell_type": "code",
   "execution_count": 19,
   "metadata": {},
   "outputs": [
    {
     "data": {
      "text/plain": [
       "-1.5215626955032349"
      ]
     },
     "execution_count": 19,
     "metadata": {},
     "output_type": "execute_result"
    }
   ],
   "source": [
    "challenge_data[20].min()"
   ]
  },
  {
   "cell_type": "code",
   "execution_count": 20,
   "metadata": {},
   "outputs": [
    {
     "data": {
      "text/plain": [
       "Text(0.5,1,'index: 20 (log transform)')"
      ]
     },
     "execution_count": 20,
     "metadata": {},
     "output_type": "execute_result"
    },
    {
     "data": {
      "image/png": "[encoded data removed]",
      "text/plain": [
       "<Figure size 432x288 with 1 Axes>"
      ]
     },
     "metadata": {},
     "output_type": "display_data"
    }
   ],
   "source": [
    "index = 20\n",
    "transformed = np.log(challenge_data[index]+2)\n",
    "pom = pd.Series(transformed).hist(bins=50)\n",
    "pom.set_title(\"index: %d (log transform)\" % index)"
   ]
  },
  {
   "cell_type": "markdown",
   "metadata": {},
   "source": [
    "Lepšie ako logaritmus je použiť Box-Cox. Box-Cox sa dokáže postarať o to, aby sa výsledné rozelenie podobalo normálnemu. Viac info o tom, ako Box-Cox funguje, najdete tu: http://onlinestatbook.com/2/transformations/box-cox.html"
   ]
  },
  {
   "cell_type": "code",
   "execution_count": 21,
   "metadata": {
    "collapsed": true
   },
   "outputs": [],
   "source": [
    "from scipy.stats import boxcox"
   ]
  },
  {
   "cell_type": "code",
   "execution_count": 22,
   "metadata": {},
   "outputs": [
    {
     "data": {
      "text/plain": [
       "Text(0.5,1,'index: 20 (box-cox)')"
      ]
     },
     "execution_count": 22,
     "metadata": {},
     "output_type": "execute_result"
    },
    {
     "data": {
      "image/png": "[encoded data removed]",
      "text/plain": [
       "<Figure size 432x288 with 1 Axes>"
      ]
     },
     "metadata": {},
     "output_type": "display_data"
    }
   ],
   "source": [
    "index = 20\n",
    "transformed, att = boxcox(challenge_data[index]+2) # boxcox vrati transformovane data a parametre transformacie. Tie viem zafixovat a v tom pripade mi to vrati len transformovane data\n",
    "pom = pd.Series(transformed).hist(bins=50)\n",
    "pom.set_title(\"index: %d (box-cox)\" % index)"
   ]
  },
  {
   "cell_type": "code",
   "execution_count": 23,
   "metadata": {},
   "outputs": [
    {
     "data": {
      "text/plain": [
       "<matplotlib.axes._subplots.AxesSubplot at 0x2020a72d9e8>"
      ]
     },
     "execution_count": 23,
     "metadata": {},
     "output_type": "execute_result"
    },
    {
     "data": {
      "image/png": "[encoded data removed]",
      "text/plain": [
       "<Figure size 432x288 with 1 Axes>"
      ]
     },
     "metadata": {},
     "output_type": "display_data"
    }
   ],
   "source": [
    "pd.Series(transformed).plot(kind='box')"
   ]
  },
  {
   "cell_type": "code",
   "execution_count": 24,
   "metadata": {
    "collapsed": true
   },
   "outputs": [],
   "source": [
    "# z-normalization: shift = mean, scale = std\n",
    "# 0-1 normalization: shift = min, scale =  max - min\n",
    "# toto iste robi StandardScaler pre vsetky atributy. Pozor ale na power law\n",
    "# ak pouzijete RobustScaler, tak si viete poradit aj s outliermi (pouziva rozsah 1st quartile (25th quantile) and the 3rd quartile (75th quantile))\n",
    "def normalization(data, shift, scale): \n",
    "    return (np.array(data) - float(shift))/scale"
   ]
  },
  {
   "cell_type": "code",
   "execution_count": 25,
   "metadata": {},
   "outputs": [
    {
     "data": {
      "text/plain": [
       "Text(0.5,1,'throughput (Z-normalization)')"
      ]
     },
     "execution_count": 25,
     "metadata": {},
     "output_type": "execute_result"
    },
    {
     "data": {
      "image/png": "[encoded data removed]",
      "text/plain": [
       "<Figure size 432x288 with 1 Axes>"
      ]
     },
     "metadata": {},
     "output_type": "display_data"
    }
   ],
   "source": [
    "z_transformed = normalization(transformed, np.mean(transformed), np.std(transformed))\n",
    "pom = pd.Series(z_transformed).hist(bins=50)\n",
    "pom.set_title('throughput (Z-normalization)')"
   ]
  },
  {
   "cell_type": "code",
   "execution_count": 26,
   "metadata": {},
   "outputs": [
    {
     "data": {
      "text/plain": [
       "Text(0.5,1,'throughput (Z-normalization)')"
      ]
     },
     "execution_count": 26,
     "metadata": {},
     "output_type": "execute_result"
    },
    {
     "data": {
      "image/png": "[encoded data removed]",
      "text/plain": [
       "<Figure size 432x288 with 1 Axes>"
      ]
     },
     "metadata": {},
     "output_type": "display_data"
    }
   ],
   "source": [
    "# sklearn.preprocessing\n",
    "z_transformed = preprocessing.scale(transformed)\n",
    "pom = pd.Series(z_transformed).hist(bins=50)\n",
    "pom.set_title('throughput (Z-normalization)')"
   ]
  },
  {
   "cell_type": "markdown",
   "metadata": {},
   "source": [
    "# Transformácia numerických atribútov na kategorické - diskretizácia"
   ]
  },
  {
   "cell_type": "markdown",
   "metadata": {},
   "source": [
    "Pre niektoré algoritmy nie sú číselné dáta úplne vhodné. Napríklad taký Naivný Bayes potrebuje kategorické hodnoty. Tie sa dajú vytvoriť zaradením numerických hodnôt do intervalov.\n",
    "\n",
    "Intervaly su buď manuálne nastavené, alebo také, aby ich šírka bola rovnaká (*equal width binning/discretization*) alebo počty prvkov (*equal frequency binning/discretization*), ktoré do nich spadajú boli približne rovnaké. "
   ]
  },
  {
   "cell_type": "markdown",
   "metadata": {},
   "source": [
    "## Rovnaká šírka intervalov"
   ]
  },
  {
   "cell_type": "code",
   "execution_count": 27,
   "metadata": {},
   "outputs": [
    {
     "data": {
      "text/plain": [
       "array([ 0.10657099,  0.16580308,  0.8440961 , -1.24717423,  0.48185395,\n",
       "       -0.55594854,  0.3699829 , -0.04235558, -1.22058166, -0.61991132])"
      ]
     },
     "execution_count": 27,
     "metadata": {},
     "output_type": "execute_result"
    }
   ],
   "source": [
    "z_transformed[:10]"
   ]
  },
  {
   "cell_type": "code",
   "execution_count": 28,
   "metadata": {
    "scrolled": true
   },
   "outputs": [
    {
     "data": {
      "text/plain": [
       "array([4, 4, 5, 3, 5, 4, 5, 4, 3, 4], dtype=int64)"
      ]
     },
     "execution_count": 28,
     "metadata": {},
     "output_type": "execute_result"
    }
   ],
   "source": [
    "bin_count = 10\n",
    "bins = np.linspace(z_transformed.min(), z_transformed.max(), bin_count)\n",
    "ew_digitized = np.digitize(z_transformed, bins)\n",
    "ew_digitized[:10]"
   ]
  },
  {
   "cell_type": "code",
   "execution_count": 29,
   "metadata": {},
   "outputs": [
    {
     "data": {
      "text/plain": [
       "array([-4.42671654, -3.24692043, -2.06712432, -0.88732821,  0.29246791,\n",
       "        1.47226402,  2.65206013,  3.83185624,  5.01165235,  6.19144847])"
      ]
     },
     "execution_count": 29,
     "metadata": {},
     "output_type": "execute_result"
    }
   ],
   "source": [
    "bins"
   ]
  },
  {
   "cell_type": "code",
   "execution_count": 30,
   "metadata": {},
   "outputs": [
    {
     "data": {
      "text/plain": [
       "<BarContainer object of 9 artists>"
      ]
     },
     "execution_count": 30,
     "metadata": {},
     "output_type": "execute_result"
    },
    {
     "data": {
      "image/png": "[encoded data removed]",
      "text/plain": [
       "<Figure size 432x288 with 1 Axes>"
      ]
     },
     "metadata": {},
     "output_type": "display_data"
    }
   ],
   "source": [
    "plt.bar(*np.unique(ew_digitized, return_counts=True))"
   ]
  },
  {
   "cell_type": "markdown",
   "metadata": {},
   "source": [
    "Pri rovnako širokých intervaloch sme rovnomerne rozdelili intrval medzi maximálnou a minimálnou hodnotou. Nič nám nebráni definovať si vlastné, rôzne široké intervaly a spraviť z toho prístup používajúci manuálne definované intervaly."
   ]
  },
  {
   "cell_type": "markdown",
   "metadata": {},
   "source": [
    "## Rovnaká početnosť intervalov\n",
    "\n",
    "Chceme, aby boli intervaly približne rovnako početné. Predpokladajme, že sme už spravili nejaké transformácie dát, a tie teraz približne dodržujú normálne rozdelenie."
   ]
  },
  {
   "cell_type": "code",
   "execution_count": 31,
   "metadata": {},
   "outputs": [
    {
     "data": {
      "text/plain": [
       "(0, 0.45)"
      ]
     },
     "execution_count": 31,
     "metadata": {},
     "output_type": "execute_result"
    },
    {
     "data": {
      "image/png": "[encoded data removed]",
      "text/plain": [
       "<Figure size 648x216 with 1 Axes>"
      ]
     },
     "metadata": {},
     "output_type": "display_data"
    }
   ],
   "source": [
    "# Toto je kod na vytvorenie fancy grafu, ktory nemusite podrobne studovat, ak sa vam nechce. \n",
    "# Dolezity je vysledok, aby sme na nom vysvetlili princip transformacie.\n",
    "\n",
    "from scipy.stats import norm\n",
    "\n",
    "def breakpoints(alphabetSize):\n",
    "        return list(map(norm.ppf, np.linspace(0,1,alphabetSize+1)[1:-1]))\n",
    "    \n",
    "def interval_centres(alphabetSize):\n",
    "    return breakpoints(alphabetSize * 2)[::2]\n",
    "    \n",
    "def adjust_spines(ax, spines):\n",
    "    for loc, spine in ax.spines.items():\n",
    "        if loc in spines:\n",
    "            spine.set_position(('outward', 10))  # outward by 10 points\n",
    "            spine.set_smart_bounds(True)\n",
    "        else:\n",
    "            spine.set_color('none')  # don't draw spine\n",
    "\n",
    "    # turn off ticks where there is no spine\n",
    "    if 'left' in spines:\n",
    "        ax.yaxis.set_ticks_position('left')\n",
    "    else:\n",
    "        # no yaxis ticks\n",
    "        ax.yaxis.set_ticks([])\n",
    "\n",
    "    if 'bottom' in spines:\n",
    "        ax.xaxis.set_ticks_position('bottom')\n",
    "    else:\n",
    "        # no xaxis ticks\n",
    "        ax.xaxis.set_ticks([])\n",
    "\n",
    "plt.rcParams['figure.figsize'] = 9, 3\n",
    "\n",
    "fig, ax = plt.subplots(1, 1)\n",
    "\n",
    "symbol_num = 5\n",
    "brp = breakpoints(symbol_num)\n",
    "centres = interval_centres(symbol_num)\n",
    "lw = 1.4\n",
    "\n",
    "plt.vlines(brp, 0.005, list(map(norm.pdf, brp)), color='red', linewidth=lw)\n",
    "\n",
    "x = np.linspace(norm.ppf(0.0001), norm.ppf(0.9999), 100)\n",
    "ax.plot(x, norm.pdf(x), '-', color='black', linewidth=lw)\n",
    "\n",
    "hatched2 = np.linspace(-4, brp[0], 100)\n",
    "ax.fill_between(hatched2, norm.pdf(hatched2), facecolor=\"none\", hatch=\"///\", edgecolor=\"black\", linewidth=0.0, alpha=0.5)\n",
    "\n",
    "hatched = np.linspace(brp[0], brp[1], 100)\n",
    "ax.fill_between(hatched, norm.pdf(hatched), facecolor=\"none\", hatch='\\\\\\\\\\\\', edgecolor=\"black\", linewidth=0.0, alpha=0.5)\n",
    "\n",
    "adjust_spines(ax, ['left', 'bottom'])\n",
    "# adjust_spines(ax, ['bottom'])\n",
    "\n",
    "letters = 'ABCDEFGHIJKLMNOPQRSTUVXYZ'\n",
    "for i in range(symbol_num):\n",
    "    ax.annotate(letters[i], xy=(centres[i], 0.05), horizontalalignment='center', verticalalignment='middle', backgroundcolor='w', \n",
    "                fontsize='15', color='black', bbox=dict(color='white', alpha=0.7))\n",
    "\n",
    "ax.set_ylim([0, 0.45])"
   ]
  },
  {
   "cell_type": "markdown",
   "metadata": {},
   "source": [
    "Každý interval má presne rovnaký obsah pod krivkou. To znamená, že ak podľa týchto intervalov rozdelíme dáta z normálneho rozdelenia do rôznych symbolov / kategorických hodnôt, početnosť každej z týchto hodnôt bude približne rovnaká."
   ]
  },
  {
   "cell_type": "code",
   "execution_count": 32,
   "metadata": {
    "collapsed": true
   },
   "outputs": [],
   "source": [
    "plt.rcParams['figure.figsize'] = 6, 4"
   ]
  },
  {
   "cell_type": "code",
   "execution_count": 33,
   "metadata": {},
   "outputs": [
    {
     "data": {
      "text/plain": [
       "[(-inf, -0.8416212335729142),\n",
       " (-0.8416212335729142, -0.2533471031357997),\n",
       " (-0.2533471031357997, 0.25334710313580006),\n",
       " (0.25334710313580006, 0.8416212335729143),\n",
       " (0.8416212335729143, inf)]"
      ]
     },
     "execution_count": 33,
     "metadata": {},
     "output_type": "execute_result"
    }
   ],
   "source": [
    "def create_breakpoints(alphabetSize):\n",
    "        brkp_list = list(map(norm.ppf, np.linspace(0,1,alphabetSize+1)))\n",
    "        return [(brkp_list[i], brkp_list[i+1]) for i in range(alphabetSize)]\n",
    "create_breakpoints(5)"
   ]
  },
  {
   "cell_type": "code",
   "execution_count": 34,
   "metadata": {
    "collapsed": true
   },
   "outputs": [],
   "source": [
    "def interval_transform(data, breakpoints):\n",
    "    def get_interval(value, breakpoints):\n",
    "        for index in range(len(breakpoints)):\n",
    "            breakpoint = breakpoints[index]\n",
    "            if value > breakpoint[0] and value <= breakpoint[1]:\n",
    "                return index\n",
    "        return len(breakpoints)\n",
    "    \n",
    "    return pd.Series([get_interval(value, breakpoints) for value in data])"
   ]
  },
  {
   "cell_type": "code",
   "execution_count": 35,
   "metadata": {},
   "outputs": [
    {
     "data": {
      "text/plain": [
       "Text(0.5,1,'transformed attribute (Interval normalization)')"
      ]
     },
     "execution_count": 35,
     "metadata": {},
     "output_type": "execute_result"
    },
    {
     "data": {
      "image/png": "[encoded data removed]",
      "text/plain": [
       "<Figure size 432x288 with 1 Axes>"
      ]
     },
     "metadata": {},
     "output_type": "display_data"
    }
   ],
   "source": [
    "interval_number = 10\n",
    "interval_transformed = interval_transform(z_transformed, create_breakpoints(interval_number))\n",
    "pom = pd.Series(interval_transformed).hist(bins=interval_number)\n",
    "pom.set_title('transformed attribute (Interval normalization)')"
   ]
  },
  {
   "cell_type": "markdown",
   "metadata": {},
   "source": [
    "Keďže sme nemali úplne pekné normálne rozdelenie, tak ani intervaly nie sú úplne rovnomerne početné, ale nie sme ďaleko."
   ]
  },
  {
   "cell_type": "markdown",
   "metadata": {},
   "source": [
    "## Niečo podobné by sa dalo dosiahnuť aj pomocou percentilov v prípade, ak nemáme normalizované dáta.\n",
    "\n",
    "Toto by sme vedeli púšťať na hociaké rozdelenie dát a nemuseli by sme sa spoliehať na nejaké teoretické rozdelenie, ktoré by mali tie naše dáta spĺňať. A dokonca bude ten zápis aj jednoduchší."
   ]
  },
  {
   "cell_type": "code",
   "execution_count": 36,
   "metadata": {},
   "outputs": [
    {
     "data": {
      "text/plain": [
       "array([6, 6, 8, 2, 7, 3, 7, 5, 2, 3], dtype=int64)"
      ]
     },
     "execution_count": 36,
     "metadata": {},
     "output_type": "execute_result"
    }
   ],
   "source": [
    "data = challenge_data[20] # tuna nepotrebujeme transformovat data, ale ak by sme, tak nam to nijak neprekaza\n",
    "\n",
    "bin_count = 10\n",
    "percentiles = np.linspace(0, 100, bin_count, endpoint = False)\n",
    "bins = list(map(lambda x: np.percentile(data, x), percentiles))\n",
    "ef_digitized = np.digitize(data, bins)\n",
    "ef_digitized[:10]"
   ]
  },
  {
   "cell_type": "code",
   "execution_count": 37,
   "metadata": {},
   "outputs": [
    {
     "data": {
      "text/plain": [
       "array([ 0., 10., 20., 30., 40., 50., 60., 70., 80., 90.])"
      ]
     },
     "execution_count": 37,
     "metadata": {},
     "output_type": "execute_result"
    }
   ],
   "source": [
    "percentiles"
   ]
  },
  {
   "cell_type": "code",
   "execution_count": 38,
   "metadata": {},
   "outputs": [
    {
     "data": {
      "text/plain": [
       "[-1.5215626955032349,\n",
       " 0.3481952660537032,\n",
       " 0.878680005317,\n",
       " 1.5704484939575194,\n",
       " 2.106584409165542,\n",
       " 2.592609643936157,\n",
       " 3.1949773599911797,\n",
       " 3.8665801048278805,\n",
       " 4.695518307476256,\n",
       " 5.678778468091513]"
      ]
     },
     "execution_count": 38,
     "metadata": {},
     "output_type": "execute_result"
    }
   ],
   "source": [
    "bins"
   ]
  },
  {
   "cell_type": "code",
   "execution_count": 39,
   "metadata": {},
   "outputs": [
    {
     "data": {
      "text/plain": [
       "<BarContainer object of 10 artists>"
      ]
     },
     "execution_count": 39,
     "metadata": {},
     "output_type": "execute_result"
    },
    {
     "data": {
      "image/png": "[encoded data removed]",
      "text/plain": [
       "<Figure size 432x288 with 1 Axes>"
      ]
     },
     "metadata": {},
     "output_type": "display_data"
    }
   ],
   "source": [
    "plt.bar(*np.unique(ef_digitized, return_counts=True))"
   ]
  },
  {
   "cell_type": "markdown",
   "metadata": {},
   "source": [
    "### Čo sa stane, ak tú istú transformáciu pustíme na testovacích dátach?"
   ]
  },
  {
   "cell_type": "code",
   "execution_count": 40,
   "metadata": {},
   "outputs": [
    {
     "data": {
      "text/plain": [
       "<BarContainer object of 11 artists>"
      ]
     },
     "execution_count": 40,
     "metadata": {},
     "output_type": "execute_result"
    },
    {
     "data": {
      "image/png": "[encoded data removed]",
      "text/plain": [
       "<Figure size 432x288 with 1 Axes>"
      ]
     },
     "metadata": {},
     "output_type": "display_data"
    }
   ],
   "source": [
    "challenge_data_test = pd.read_csv(\"./data/x_test.csv\", nrows=1000, sep=',', header=None)\n",
    "test_data = challenge_data_test[20]\n",
    "\n",
    "# Nezmenim biny, cize pouzivam transformaciu, ktoru som natrenoval na trenovacich datach. \n",
    "# Na toto si treba dat pozor. Nikdy transformaciu nemozem menit pre trenovacie a pre testovacie data.\n",
    "ef_digitized_test = np.digitize(test_data, bins)\n",
    "plt.bar(*np.unique(ef_digitized_test, return_counts=True))"
   ]
  },
  {
   "cell_type": "markdown",
   "metadata": {},
   "source": [
    "# Transformácia numerických dát na binárne\n",
    "\n",
    "Toto je jednoduché, potrebujeme si len zobrať nejakú hranicu a všetko, čo je pod ňou, bude 0 a nad ňou 1."
   ]
  },
  {
   "cell_type": "code",
   "execution_count": 41,
   "metadata": {},
   "outputs": [
    {
     "data": {
      "text/plain": [
       "<matplotlib.axes._subplots.AxesSubplot at 0x2020c362860>"
      ]
     },
     "execution_count": 41,
     "metadata": {},
     "output_type": "execute_result"
    },
    {
     "data": {
      "image/png": "[encoded data removed]",
      "text/plain": [
       "<Figure size 432x288 with 1 Axes>"
      ]
     },
     "metadata": {},
     "output_type": "display_data"
    }
   ],
   "source": [
    "binarizer = preprocessing.Binarizer(0) # v tomto pripade je hranica 0\n",
    "binary = binarizer.transform(z_transformed.reshape(1, -1))\n",
    "pd.Series(binary[0]).hist()"
   ]
  },
  {
   "cell_type": "markdown",
   "metadata": {},
   "source": [
    "# Transformácia kategorických údajov na numerické\n",
    "\n",
    "http://www.willmcginnis.com/2015/11/29/beyond-one-hot-an-exploration-of-categorical-variables/\n",
    "\n",
    "https://github.com/wdm0006/categorical_encoding\n",
    "\n",
    "https://stats.idre.ucla.edu/r/library/r-library-contrast-coding-systems-for-categorical-variables/"
   ]
  },
  {
   "cell_type": "markdown",
   "metadata": {},
   "source": [
    "### Existuje viacero spôsobov, ako transformovať kategorickú hodnotu na číslo \n",
    "\n",
    "1. `Ordinal` - priradzovanie čísel postupne rôznym hodnotám.\n",
    "2. `One-hot` - z každej kategórie vznikne stĺpec s hodnotou 1 v tých riadkoch, ktoré boli nastavené na túto hodnotu, inde 0.\n",
    "3. `Binary` - zoberie sa ordinal, zakóduju sa čísla ako binárne, každá číslica binárneho čísla je použitá ako stĺpec a tam, kde bola na zodpovedajúcom mieste 1, tam bude v stĺpci 1 a inak 0.\n",
    "4. `Sum` - porovnáva sa priemer závislej premennej na riadokch jednej skupiny oproti priemeru závislej premennej na celej dátovej sade.\n",
    "5. `Helmert` - veľmi podobné ako Sum, len jedinečnosť kategorickej hodnoty je daná inou kombináciou hodnôt.\n",
    "6. `BackwardDifferenceEncoder` - veľmi podobné ako Sum, len jedinečnosť kategorickej hodnoty je daná inou kombináciou hodnôt.\n",
    "7. `Polynomial` - trénuje koeficienty ploynomiálnej regresie rôzneho stupňa, ktoré sa dajú použiť na regresiu závislej premennej (neviem, aký to má zmysel pre malý počet rôznych hodnot) (treba ordinálne premenné)\n",
    "8. `Hash` - zahashuje string kategorickej premennej a moduluje ho počtom rôznych hodnot. Je v sklearn http://scikit-learn.org/stable/modules/generated/sklearn.feature_extraction.FeatureHasher.html\n",
    "\n",
    "Zaujímavé su asi len prvé 4 a číslo 7, ostatné su len obmeny týchto s tým, že menia rozdelenia hodnôt."
   ]
  },
  {
   "cell_type": "code",
   "execution_count": 42,
   "metadata": {},
   "outputs": [
    {
     "data": {
      "text/html": [
       "<div>\n",
       "<style scoped>\n",
       "    .dataframe tbody tr th:only-of-type {\n",
       "        vertical-align: middle;\n",
       "    }\n",
       "\n",
       "    .dataframe tbody tr th {\n",
       "        vertical-align: top;\n",
       "    }\n",
       "\n",
       "    .dataframe thead th {\n",
       "        text-align: right;\n",
       "    }\n",
       "</style>\n",
       "<table border=\"1\" class=\"dataframe\">\n",
       "  <thead>\n",
       "    <tr style=\"text-align: right;\">\n",
       "      <th></th>\n",
       "      <th>PassengerId</th>\n",
       "      <th>Survived</th>\n",
       "      <th>Pclass</th>\n",
       "      <th>Name</th>\n",
       "      <th>Sex</th>\n",
       "      <th>Age</th>\n",
       "      <th>SibSp</th>\n",
       "      <th>Parch</th>\n",
       "      <th>Ticket</th>\n",
       "      <th>Fare</th>\n",
       "      <th>Cabin</th>\n",
       "      <th>Embarked</th>\n",
       "    </tr>\n",
       "  </thead>\n",
       "  <tbody>\n",
       "    <tr>\n",
       "      <th>0</th>\n",
       "      <td>1</td>\n",
       "      <td>0</td>\n",
       "      <td>3</td>\n",
       "      <td>Braund, Mr. Owen Harris</td>\n",
       "      <td>male</td>\n",
       "      <td>22.0</td>\n",
       "      <td>1</td>\n",
       "      <td>0</td>\n",
       "      <td>A/5 21171</td>\n",
       "      <td>7.2500</td>\n",
       "      <td>NaN</td>\n",
       "      <td>S</td>\n",
       "    </tr>\n",
       "    <tr>\n",
       "      <th>1</th>\n",
       "      <td>2</td>\n",
       "      <td>1</td>\n",
       "      <td>1</td>\n",
       "      <td>Cumings, Mrs. John Bradley (Florence Briggs Th...</td>\n",
       "      <td>female</td>\n",
       "      <td>38.0</td>\n",
       "      <td>1</td>\n",
       "      <td>0</td>\n",
       "      <td>PC 17599</td>\n",
       "      <td>71.2833</td>\n",
       "      <td>C85</td>\n",
       "      <td>C</td>\n",
       "    </tr>\n",
       "    <tr>\n",
       "      <th>2</th>\n",
       "      <td>3</td>\n",
       "      <td>1</td>\n",
       "      <td>3</td>\n",
       "      <td>Heikkinen, Miss. Laina</td>\n",
       "      <td>female</td>\n",
       "      <td>26.0</td>\n",
       "      <td>0</td>\n",
       "      <td>0</td>\n",
       "      <td>STON/O2. 3101282</td>\n",
       "      <td>7.9250</td>\n",
       "      <td>NaN</td>\n",
       "      <td>S</td>\n",
       "    </tr>\n",
       "    <tr>\n",
       "      <th>3</th>\n",
       "      <td>4</td>\n",
       "      <td>1</td>\n",
       "      <td>1</td>\n",
       "      <td>Futrelle, Mrs. Jacques Heath (Lily May Peel)</td>\n",
       "      <td>female</td>\n",
       "      <td>35.0</td>\n",
       "      <td>1</td>\n",
       "      <td>0</td>\n",
       "      <td>113803</td>\n",
       "      <td>53.1000</td>\n",
       "      <td>C123</td>\n",
       "      <td>S</td>\n",
       "    </tr>\n",
       "    <tr>\n",
       "      <th>4</th>\n",
       "      <td>5</td>\n",
       "      <td>0</td>\n",
       "      <td>3</td>\n",
       "      <td>Allen, Mr. William Henry</td>\n",
       "      <td>male</td>\n",
       "      <td>35.0</td>\n",
       "      <td>0</td>\n",
       "      <td>0</td>\n",
       "      <td>373450</td>\n",
       "      <td>8.0500</td>\n",
       "      <td>NaN</td>\n",
       "      <td>S</td>\n",
       "    </tr>\n",
       "  </tbody>\n",
       "</table>\n",
       "</div>"
      ],
      "text/plain": [
       "   PassengerId  Survived  Pclass  \\\n",
       "0            1         0       3   \n",
       "1            2         1       1   \n",
       "2            3         1       3   \n",
       "3            4         1       1   \n",
       "4            5         0       3   \n",
       "\n",
       "                                                Name     Sex   Age  SibSp  \\\n",
       "0                            Braund, Mr. Owen Harris    male  22.0      1   \n",
       "1  Cumings, Mrs. John Bradley (Florence Briggs Th...  female  38.0      1   \n",
       "2                             Heikkinen, Miss. Laina  female  26.0      0   \n",
       "3       Futrelle, Mrs. Jacques Heath (Lily May Peel)  female  35.0      1   \n",
       "4                           Allen, Mr. William Henry    male  35.0      0   \n",
       "\n",
       "   Parch            Ticket     Fare Cabin Embarked  \n",
       "0      0         A/5 21171   7.2500   NaN        S  \n",
       "1      0          PC 17599  71.2833   C85        C  \n",
       "2      0  STON/O2. 3101282   7.9250   NaN        S  \n",
       "3      0            113803  53.1000  C123        S  \n",
       "4      0            373450   8.0500   NaN        S  "
      ]
     },
     "execution_count": 42,
     "metadata": {},
     "output_type": "execute_result"
    }
   ],
   "source": [
    "titanic = pd.read_csv('data/titanic/train.csv')\n",
    "titanic.head()"
   ]
  },
  {
   "cell_type": "code",
   "execution_count": 43,
   "metadata": {
    "collapsed": true
   },
   "outputs": [],
   "source": [
    "# pip install category_encoders\n",
    "import category_encoders as ce\n",
    "\n",
    "# encoder = ce.OrdinalEncoder()\n",
    "# encoder = ce.BinaryEncoder()\n",
    "# encoder = ce.PolynomialEncoder() \n",
    "# encoder = ce.HashingEncoder()\n",
    "\n",
    "# encoder = ce.HelmertEncoder()\n",
    "encoder = ce.OneHotEncoder() # tento je aj v sklearn.preprocessing.OneHotEncoder, tu su ale vsetky a maju rovnaky predpis\n",
    "# encoder = ce.BackwardDifferenceEncoder()\n",
    "# encoder = ce.SumEncoder()"
   ]
  },
  {
   "cell_type": "code",
   "execution_count": 44,
   "metadata": {
    "collapsed": true
   },
   "outputs": [],
   "source": [
    "titanic_X = titanic.dropna().reindex(columns=[x for x in titanic.columns.values if x != 'Survived'])\n",
    "titanic_y = titanic.dropna().reindex(columns=['Survived'])"
   ]
  },
  {
   "cell_type": "code",
   "execution_count": 45,
   "metadata": {},
   "outputs": [
    {
     "data": {
      "text/html": [
       "<div>\n",
       "<style scoped>\n",
       "    .dataframe tbody tr th:only-of-type {\n",
       "        vertical-align: middle;\n",
       "    }\n",
       "\n",
       "    .dataframe tbody tr th {\n",
       "        vertical-align: top;\n",
       "    }\n",
       "\n",
       "    .dataframe thead th {\n",
       "        text-align: right;\n",
       "    }\n",
       "</style>\n",
       "<table border=\"1\" class=\"dataframe\">\n",
       "  <thead>\n",
       "    <tr style=\"text-align: right;\">\n",
       "      <th></th>\n",
       "      <th>Name_0</th>\n",
       "      <th>Name_1</th>\n",
       "      <th>Name_2</th>\n",
       "      <th>Name_3</th>\n",
       "      <th>Name_4</th>\n",
       "      <th>Name_5</th>\n",
       "      <th>Name_6</th>\n",
       "      <th>Name_7</th>\n",
       "      <th>Name_8</th>\n",
       "      <th>Name_9</th>\n",
       "      <th>...</th>\n",
       "      <th>Embarked_0</th>\n",
       "      <th>Embarked_1</th>\n",
       "      <th>Embarked_2</th>\n",
       "      <th>Embarked_-1</th>\n",
       "      <th>PassengerId</th>\n",
       "      <th>Pclass</th>\n",
       "      <th>Age</th>\n",
       "      <th>SibSp</th>\n",
       "      <th>Parch</th>\n",
       "      <th>Fare</th>\n",
       "    </tr>\n",
       "  </thead>\n",
       "  <tbody>\n",
       "    <tr>\n",
       "      <th>1</th>\n",
       "      <td>1</td>\n",
       "      <td>0</td>\n",
       "      <td>0</td>\n",
       "      <td>0</td>\n",
       "      <td>0</td>\n",
       "      <td>0</td>\n",
       "      <td>0</td>\n",
       "      <td>0</td>\n",
       "      <td>0</td>\n",
       "      <td>0</td>\n",
       "      <td>...</td>\n",
       "      <td>1</td>\n",
       "      <td>0</td>\n",
       "      <td>0</td>\n",
       "      <td>0</td>\n",
       "      <td>2</td>\n",
       "      <td>1</td>\n",
       "      <td>38.0</td>\n",
       "      <td>1</td>\n",
       "      <td>0</td>\n",
       "      <td>71.2833</td>\n",
       "    </tr>\n",
       "    <tr>\n",
       "      <th>3</th>\n",
       "      <td>0</td>\n",
       "      <td>1</td>\n",
       "      <td>0</td>\n",
       "      <td>0</td>\n",
       "      <td>0</td>\n",
       "      <td>0</td>\n",
       "      <td>0</td>\n",
       "      <td>0</td>\n",
       "      <td>0</td>\n",
       "      <td>0</td>\n",
       "      <td>...</td>\n",
       "      <td>0</td>\n",
       "      <td>1</td>\n",
       "      <td>0</td>\n",
       "      <td>0</td>\n",
       "      <td>4</td>\n",
       "      <td>1</td>\n",
       "      <td>35.0</td>\n",
       "      <td>1</td>\n",
       "      <td>0</td>\n",
       "      <td>53.1000</td>\n",
       "    </tr>\n",
       "    <tr>\n",
       "      <th>6</th>\n",
       "      <td>0</td>\n",
       "      <td>0</td>\n",
       "      <td>1</td>\n",
       "      <td>0</td>\n",
       "      <td>0</td>\n",
       "      <td>0</td>\n",
       "      <td>0</td>\n",
       "      <td>0</td>\n",
       "      <td>0</td>\n",
       "      <td>0</td>\n",
       "      <td>...</td>\n",
       "      <td>0</td>\n",
       "      <td>1</td>\n",
       "      <td>0</td>\n",
       "      <td>0</td>\n",
       "      <td>7</td>\n",
       "      <td>1</td>\n",
       "      <td>54.0</td>\n",
       "      <td>0</td>\n",
       "      <td>0</td>\n",
       "      <td>51.8625</td>\n",
       "    </tr>\n",
       "    <tr>\n",
       "      <th>10</th>\n",
       "      <td>0</td>\n",
       "      <td>0</td>\n",
       "      <td>0</td>\n",
       "      <td>1</td>\n",
       "      <td>0</td>\n",
       "      <td>0</td>\n",
       "      <td>0</td>\n",
       "      <td>0</td>\n",
       "      <td>0</td>\n",
       "      <td>0</td>\n",
       "      <td>...</td>\n",
       "      <td>0</td>\n",
       "      <td>1</td>\n",
       "      <td>0</td>\n",
       "      <td>0</td>\n",
       "      <td>11</td>\n",
       "      <td>3</td>\n",
       "      <td>4.0</td>\n",
       "      <td>1</td>\n",
       "      <td>1</td>\n",
       "      <td>16.7000</td>\n",
       "    </tr>\n",
       "    <tr>\n",
       "      <th>11</th>\n",
       "      <td>0</td>\n",
       "      <td>0</td>\n",
       "      <td>0</td>\n",
       "      <td>0</td>\n",
       "      <td>1</td>\n",
       "      <td>0</td>\n",
       "      <td>0</td>\n",
       "      <td>0</td>\n",
       "      <td>0</td>\n",
       "      <td>0</td>\n",
       "      <td>...</td>\n",
       "      <td>0</td>\n",
       "      <td>1</td>\n",
       "      <td>0</td>\n",
       "      <td>0</td>\n",
       "      <td>12</td>\n",
       "      <td>1</td>\n",
       "      <td>58.0</td>\n",
       "      <td>0</td>\n",
       "      <td>0</td>\n",
       "      <td>26.5500</td>\n",
       "    </tr>\n",
       "  </tbody>\n",
       "</table>\n",
       "<p>5 rows × 459 columns</p>\n",
       "</div>"
      ],
      "text/plain": [
       "    Name_0  Name_1  Name_2  Name_3  Name_4  Name_5  Name_6  Name_7  Name_8  \\\n",
       "1        1       0       0       0       0       0       0       0       0   \n",
       "3        0       1       0       0       0       0       0       0       0   \n",
       "6        0       0       1       0       0       0       0       0       0   \n",
       "10       0       0       0       1       0       0       0       0       0   \n",
       "11       0       0       0       0       1       0       0       0       0   \n",
       "\n",
       "    Name_9   ...     Embarked_0  Embarked_1  Embarked_2  Embarked_-1  \\\n",
       "1        0   ...              1           0           0            0   \n",
       "3        0   ...              0           1           0            0   \n",
       "6        0   ...              0           1           0            0   \n",
       "10       0   ...              0           1           0            0   \n",
       "11       0   ...              0           1           0            0   \n",
       "\n",
       "    PassengerId  Pclass   Age  SibSp  Parch     Fare  \n",
       "1             2       1  38.0      1      0  71.2833  \n",
       "3             4       1  35.0      1      0  53.1000  \n",
       "6             7       1  54.0      0      0  51.8625  \n",
       "10           11       3   4.0      1      1  16.7000  \n",
       "11           12       1  58.0      0      0  26.5500  \n",
       "\n",
       "[5 rows x 459 columns]"
      ]
     },
     "execution_count": 45,
     "metadata": {},
     "output_type": "execute_result"
    }
   ],
   "source": [
    "encoder.fit(titanic_X, titanic_X.Fare)\n",
    "titanic_categorical = encoder.transform(titanic_X)\n",
    "titanic_categorical.head()"
   ]
  },
  {
   "cell_type": "markdown",
   "metadata": {},
   "source": [
    "Toto sme asi úplne nechceli. Treba si dávať pozor na to, koľko rôznych hodnôt má kategorická premenná. Tu sme sa pokúsili zakódovať meno, ktoré má veľmi veľa hodnôt a teda nám vzniklo veľmi veľa rôznych stĺpcov. Vo všeobecnosti to nie je dobrý nápad."
   ]
  },
  {
   "cell_type": "markdown",
   "metadata": {},
   "source": [
    "# Vytváranie atribútov kombinovaním"
   ]
  },
  {
   "cell_type": "markdown",
   "metadata": {},
   "source": [
    "### Kombinovanie numerických a kategorických dát"
   ]
  },
  {
   "cell_type": "code",
   "execution_count": 46,
   "metadata": {},
   "outputs": [
    {
     "data": {
      "text/html": [
       "<div>\n",
       "<style scoped>\n",
       "    .dataframe tbody tr th:only-of-type {\n",
       "        vertical-align: middle;\n",
       "    }\n",
       "\n",
       "    .dataframe tbody tr th {\n",
       "        vertical-align: top;\n",
       "    }\n",
       "\n",
       "    .dataframe thead th {\n",
       "        text-align: right;\n",
       "    }\n",
       "</style>\n",
       "<table border=\"1\" class=\"dataframe\">\n",
       "  <thead>\n",
       "    <tr style=\"text-align: right;\">\n",
       "      <th></th>\n",
       "      <th>PassengerId</th>\n",
       "      <th>Survived</th>\n",
       "      <th>Pclass</th>\n",
       "      <th>Name</th>\n",
       "      <th>Sex</th>\n",
       "      <th>Age</th>\n",
       "      <th>SibSp</th>\n",
       "      <th>Parch</th>\n",
       "      <th>Ticket</th>\n",
       "      <th>Fare</th>\n",
       "      <th>Cabin</th>\n",
       "      <th>Embarked</th>\n",
       "    </tr>\n",
       "  </thead>\n",
       "  <tbody>\n",
       "    <tr>\n",
       "      <th>0</th>\n",
       "      <td>1</td>\n",
       "      <td>0</td>\n",
       "      <td>3</td>\n",
       "      <td>Braund, Mr. Owen Harris</td>\n",
       "      <td>male</td>\n",
       "      <td>22.0</td>\n",
       "      <td>1</td>\n",
       "      <td>0</td>\n",
       "      <td>A/5 21171</td>\n",
       "      <td>7.2500</td>\n",
       "      <td>NaN</td>\n",
       "      <td>S</td>\n",
       "    </tr>\n",
       "    <tr>\n",
       "      <th>1</th>\n",
       "      <td>2</td>\n",
       "      <td>1</td>\n",
       "      <td>1</td>\n",
       "      <td>Cumings, Mrs. John Bradley (Florence Briggs Th...</td>\n",
       "      <td>female</td>\n",
       "      <td>38.0</td>\n",
       "      <td>1</td>\n",
       "      <td>0</td>\n",
       "      <td>PC 17599</td>\n",
       "      <td>71.2833</td>\n",
       "      <td>C85</td>\n",
       "      <td>C</td>\n",
       "    </tr>\n",
       "    <tr>\n",
       "      <th>2</th>\n",
       "      <td>3</td>\n",
       "      <td>1</td>\n",
       "      <td>3</td>\n",
       "      <td>Heikkinen, Miss. Laina</td>\n",
       "      <td>female</td>\n",
       "      <td>26.0</td>\n",
       "      <td>0</td>\n",
       "      <td>0</td>\n",
       "      <td>STON/O2. 3101282</td>\n",
       "      <td>7.9250</td>\n",
       "      <td>NaN</td>\n",
       "      <td>S</td>\n",
       "    </tr>\n",
       "    <tr>\n",
       "      <th>3</th>\n",
       "      <td>4</td>\n",
       "      <td>1</td>\n",
       "      <td>1</td>\n",
       "      <td>Futrelle, Mrs. Jacques Heath (Lily May Peel)</td>\n",
       "      <td>female</td>\n",
       "      <td>35.0</td>\n",
       "      <td>1</td>\n",
       "      <td>0</td>\n",
       "      <td>113803</td>\n",
       "      <td>53.1000</td>\n",
       "      <td>C123</td>\n",
       "      <td>S</td>\n",
       "    </tr>\n",
       "    <tr>\n",
       "      <th>4</th>\n",
       "      <td>5</td>\n",
       "      <td>0</td>\n",
       "      <td>3</td>\n",
       "      <td>Allen, Mr. William Henry</td>\n",
       "      <td>male</td>\n",
       "      <td>35.0</td>\n",
       "      <td>0</td>\n",
       "      <td>0</td>\n",
       "      <td>373450</td>\n",
       "      <td>8.0500</td>\n",
       "      <td>NaN</td>\n",
       "      <td>S</td>\n",
       "    </tr>\n",
       "  </tbody>\n",
       "</table>\n",
       "</div>"
      ],
      "text/plain": [
       "   PassengerId  Survived  Pclass  \\\n",
       "0            1         0       3   \n",
       "1            2         1       1   \n",
       "2            3         1       3   \n",
       "3            4         1       1   \n",
       "4            5         0       3   \n",
       "\n",
       "                                                Name     Sex   Age  SibSp  \\\n",
       "0                            Braund, Mr. Owen Harris    male  22.0      1   \n",
       "1  Cumings, Mrs. John Bradley (Florence Briggs Th...  female  38.0      1   \n",
       "2                             Heikkinen, Miss. Laina  female  26.0      0   \n",
       "3       Futrelle, Mrs. Jacques Heath (Lily May Peel)  female  35.0      1   \n",
       "4                           Allen, Mr. William Henry    male  35.0      0   \n",
       "\n",
       "   Parch            Ticket     Fare Cabin Embarked  \n",
       "0      0         A/5 21171   7.2500   NaN        S  \n",
       "1      0          PC 17599  71.2833   C85        C  \n",
       "2      0  STON/O2. 3101282   7.9250   NaN        S  \n",
       "3      0            113803  53.1000  C123        S  \n",
       "4      0            373450   8.0500   NaN        S  "
      ]
     },
     "execution_count": 46,
     "metadata": {},
     "output_type": "execute_result"
    }
   ],
   "source": [
    "titanic.head()"
   ]
  },
  {
   "cell_type": "code",
   "execution_count": 47,
   "metadata": {},
   "outputs": [
    {
     "data": {
      "text/plain": [
       "29.69911764705882"
      ]
     },
     "execution_count": 47,
     "metadata": {},
     "output_type": "execute_result"
    }
   ],
   "source": [
    "mean_age = titanic.Age.mean()\n",
    "mean_age"
   ]
  },
  {
   "cell_type": "code",
   "execution_count": 48,
   "metadata": {},
   "outputs": [
    {
     "data": {
      "text/html": [
       "<div>\n",
       "<style scoped>\n",
       "    .dataframe tbody tr th:only-of-type {\n",
       "        vertical-align: middle;\n",
       "    }\n",
       "\n",
       "    .dataframe tbody tr th {\n",
       "        vertical-align: top;\n",
       "    }\n",
       "\n",
       "    .dataframe thead th {\n",
       "        text-align: right;\n",
       "    }\n",
       "</style>\n",
       "<table border=\"1\" class=\"dataframe\">\n",
       "  <thead>\n",
       "    <tr style=\"text-align: right;\">\n",
       "      <th></th>\n",
       "      <th>PassengerId</th>\n",
       "      <th>Survived</th>\n",
       "      <th>Pclass</th>\n",
       "      <th>Name</th>\n",
       "      <th>Sex</th>\n",
       "      <th>Age</th>\n",
       "      <th>SibSp</th>\n",
       "      <th>Parch</th>\n",
       "      <th>Ticket</th>\n",
       "      <th>Fare</th>\n",
       "      <th>Cabin</th>\n",
       "      <th>Embarked</th>\n",
       "      <th>mean_age_diff</th>\n",
       "    </tr>\n",
       "  </thead>\n",
       "  <tbody>\n",
       "    <tr>\n",
       "      <th>0</th>\n",
       "      <td>1</td>\n",
       "      <td>0</td>\n",
       "      <td>3</td>\n",
       "      <td>Braund, Mr. Owen Harris</td>\n",
       "      <td>male</td>\n",
       "      <td>22.0</td>\n",
       "      <td>1</td>\n",
       "      <td>0</td>\n",
       "      <td>A/5 21171</td>\n",
       "      <td>7.2500</td>\n",
       "      <td>NaN</td>\n",
       "      <td>S</td>\n",
       "      <td>-7.699118</td>\n",
       "    </tr>\n",
       "    <tr>\n",
       "      <th>1</th>\n",
       "      <td>2</td>\n",
       "      <td>1</td>\n",
       "      <td>1</td>\n",
       "      <td>Cumings, Mrs. John Bradley (Florence Briggs Th...</td>\n",
       "      <td>female</td>\n",
       "      <td>38.0</td>\n",
       "      <td>1</td>\n",
       "      <td>0</td>\n",
       "      <td>PC 17599</td>\n",
       "      <td>71.2833</td>\n",
       "      <td>C85</td>\n",
       "      <td>C</td>\n",
       "      <td>8.300882</td>\n",
       "    </tr>\n",
       "    <tr>\n",
       "      <th>2</th>\n",
       "      <td>3</td>\n",
       "      <td>1</td>\n",
       "      <td>3</td>\n",
       "      <td>Heikkinen, Miss. Laina</td>\n",
       "      <td>female</td>\n",
       "      <td>26.0</td>\n",
       "      <td>0</td>\n",
       "      <td>0</td>\n",
       "      <td>STON/O2. 3101282</td>\n",
       "      <td>7.9250</td>\n",
       "      <td>NaN</td>\n",
       "      <td>S</td>\n",
       "      <td>-3.699118</td>\n",
       "    </tr>\n",
       "    <tr>\n",
       "      <th>3</th>\n",
       "      <td>4</td>\n",
       "      <td>1</td>\n",
       "      <td>1</td>\n",
       "      <td>Futrelle, Mrs. Jacques Heath (Lily May Peel)</td>\n",
       "      <td>female</td>\n",
       "      <td>35.0</td>\n",
       "      <td>1</td>\n",
       "      <td>0</td>\n",
       "      <td>113803</td>\n",
       "      <td>53.1000</td>\n",
       "      <td>C123</td>\n",
       "      <td>S</td>\n",
       "      <td>5.300882</td>\n",
       "    </tr>\n",
       "    <tr>\n",
       "      <th>4</th>\n",
       "      <td>5</td>\n",
       "      <td>0</td>\n",
       "      <td>3</td>\n",
       "      <td>Allen, Mr. William Henry</td>\n",
       "      <td>male</td>\n",
       "      <td>35.0</td>\n",
       "      <td>0</td>\n",
       "      <td>0</td>\n",
       "      <td>373450</td>\n",
       "      <td>8.0500</td>\n",
       "      <td>NaN</td>\n",
       "      <td>S</td>\n",
       "      <td>5.300882</td>\n",
       "    </tr>\n",
       "  </tbody>\n",
       "</table>\n",
       "</div>"
      ],
      "text/plain": [
       "   PassengerId  Survived  Pclass  \\\n",
       "0            1         0       3   \n",
       "1            2         1       1   \n",
       "2            3         1       3   \n",
       "3            4         1       1   \n",
       "4            5         0       3   \n",
       "\n",
       "                                                Name     Sex   Age  SibSp  \\\n",
       "0                            Braund, Mr. Owen Harris    male  22.0      1   \n",
       "1  Cumings, Mrs. John Bradley (Florence Briggs Th...  female  38.0      1   \n",
       "2                             Heikkinen, Miss. Laina  female  26.0      0   \n",
       "3       Futrelle, Mrs. Jacques Heath (Lily May Peel)  female  35.0      1   \n",
       "4                           Allen, Mr. William Henry    male  35.0      0   \n",
       "\n",
       "   Parch            Ticket     Fare Cabin Embarked  mean_age_diff  \n",
       "0      0         A/5 21171   7.2500   NaN        S      -7.699118  \n",
       "1      0          PC 17599  71.2833   C85        C       8.300882  \n",
       "2      0  STON/O2. 3101282   7.9250   NaN        S      -3.699118  \n",
       "3      0            113803  53.1000  C123        S       5.300882  \n",
       "4      0            373450   8.0500   NaN        S       5.300882  "
      ]
     },
     "execution_count": 48,
     "metadata": {},
     "output_type": "execute_result"
    }
   ],
   "source": [
    "titanic['mean_age_diff'] = pd.Series('', index=titanic.index)\n",
    "titanic[['mean_age_diff']] = titanic.Age.apply(lambda x: x-mean_age)\n",
    "titanic.head()"
   ]
  },
  {
   "cell_type": "code",
   "execution_count": 49,
   "metadata": {},
   "outputs": [
    {
     "data": {
      "text/html": [
       "<div>\n",
       "<style scoped>\n",
       "    .dataframe tbody tr th:only-of-type {\n",
       "        vertical-align: middle;\n",
       "    }\n",
       "\n",
       "    .dataframe tbody tr th {\n",
       "        vertical-align: top;\n",
       "    }\n",
       "\n",
       "    .dataframe thead th {\n",
       "        text-align: right;\n",
       "    }\n",
       "</style>\n",
       "<table border=\"1\" class=\"dataframe\">\n",
       "  <thead>\n",
       "    <tr style=\"text-align: right;\">\n",
       "      <th></th>\n",
       "      <th>PassengerId</th>\n",
       "      <th>Survived</th>\n",
       "      <th>Pclass</th>\n",
       "      <th>Age</th>\n",
       "      <th>SibSp</th>\n",
       "      <th>Parch</th>\n",
       "      <th>Fare</th>\n",
       "      <th>mean_age_diff</th>\n",
       "    </tr>\n",
       "    <tr>\n",
       "      <th>Sex</th>\n",
       "      <th></th>\n",
       "      <th></th>\n",
       "      <th></th>\n",
       "      <th></th>\n",
       "      <th></th>\n",
       "      <th></th>\n",
       "      <th></th>\n",
       "      <th></th>\n",
       "    </tr>\n",
       "  </thead>\n",
       "  <tbody>\n",
       "    <tr>\n",
       "      <th>female</th>\n",
       "      <td>431.028662</td>\n",
       "      <td>0.742038</td>\n",
       "      <td>2.159236</td>\n",
       "      <td>27.915709</td>\n",
       "      <td>0.694268</td>\n",
       "      <td>0.649682</td>\n",
       "      <td>44.479818</td>\n",
       "      <td>-1.783409</td>\n",
       "    </tr>\n",
       "    <tr>\n",
       "      <th>male</th>\n",
       "      <td>454.147314</td>\n",
       "      <td>0.188908</td>\n",
       "      <td>2.389948</td>\n",
       "      <td>30.726645</td>\n",
       "      <td>0.429809</td>\n",
       "      <td>0.235702</td>\n",
       "      <td>25.523893</td>\n",
       "      <td>1.027527</td>\n",
       "    </tr>\n",
       "  </tbody>\n",
       "</table>\n",
       "</div>"
      ],
      "text/plain": [
       "        PassengerId  Survived    Pclass        Age     SibSp     Parch  \\\n",
       "Sex                                                                      \n",
       "female   431.028662  0.742038  2.159236  27.915709  0.694268  0.649682   \n",
       "male     454.147314  0.188908  2.389948  30.726645  0.429809  0.235702   \n",
       "\n",
       "             Fare  mean_age_diff  \n",
       "Sex                               \n",
       "female  44.479818      -1.783409  \n",
       "male    25.523893       1.027527  "
      ]
     },
     "execution_count": 49,
     "metadata": {},
     "output_type": "execute_result"
    }
   ],
   "source": [
    "mean_attributes_by_sex = titanic.groupby('Sex').mean()\n",
    "# mean_attributes_by_sex.loc['female','Age']\n",
    "mean_attributes_by_sex"
   ]
  },
  {
   "cell_type": "code",
   "execution_count": 50,
   "metadata": {},
   "outputs": [
    {
     "data": {
      "text/html": [
       "<div>\n",
       "<style scoped>\n",
       "    .dataframe tbody tr th:only-of-type {\n",
       "        vertical-align: middle;\n",
       "    }\n",
       "\n",
       "    .dataframe tbody tr th {\n",
       "        vertical-align: top;\n",
       "    }\n",
       "\n",
       "    .dataframe thead th {\n",
       "        text-align: right;\n",
       "    }\n",
       "</style>\n",
       "<table border=\"1\" class=\"dataframe\">\n",
       "  <thead>\n",
       "    <tr style=\"text-align: right;\">\n",
       "      <th></th>\n",
       "      <th>PassengerId</th>\n",
       "      <th>Survived</th>\n",
       "      <th>Pclass</th>\n",
       "      <th>Name</th>\n",
       "      <th>Sex</th>\n",
       "      <th>Age</th>\n",
       "      <th>SibSp</th>\n",
       "      <th>Parch</th>\n",
       "      <th>Ticket</th>\n",
       "      <th>Fare</th>\n",
       "      <th>Cabin</th>\n",
       "      <th>Embarked</th>\n",
       "      <th>mean_age_diff</th>\n",
       "      <th>mean_age_diff_per_sex</th>\n",
       "    </tr>\n",
       "  </thead>\n",
       "  <tbody>\n",
       "    <tr>\n",
       "      <th>0</th>\n",
       "      <td>1</td>\n",
       "      <td>0</td>\n",
       "      <td>3</td>\n",
       "      <td>Braund, Mr. Owen Harris</td>\n",
       "      <td>male</td>\n",
       "      <td>22.0</td>\n",
       "      <td>1</td>\n",
       "      <td>0</td>\n",
       "      <td>A/5 21171</td>\n",
       "      <td>7.2500</td>\n",
       "      <td>NaN</td>\n",
       "      <td>S</td>\n",
       "      <td>-7.699118</td>\n",
       "      <td>-8.726645</td>\n",
       "    </tr>\n",
       "    <tr>\n",
       "      <th>1</th>\n",
       "      <td>2</td>\n",
       "      <td>1</td>\n",
       "      <td>1</td>\n",
       "      <td>Cumings, Mrs. John Bradley (Florence Briggs Th...</td>\n",
       "      <td>female</td>\n",
       "      <td>38.0</td>\n",
       "      <td>1</td>\n",
       "      <td>0</td>\n",
       "      <td>PC 17599</td>\n",
       "      <td>71.2833</td>\n",
       "      <td>C85</td>\n",
       "      <td>C</td>\n",
       "      <td>8.300882</td>\n",
       "      <td>10.084291</td>\n",
       "    </tr>\n",
       "    <tr>\n",
       "      <th>2</th>\n",
       "      <td>3</td>\n",
       "      <td>1</td>\n",
       "      <td>3</td>\n",
       "      <td>Heikkinen, Miss. Laina</td>\n",
       "      <td>female</td>\n",
       "      <td>26.0</td>\n",
       "      <td>0</td>\n",
       "      <td>0</td>\n",
       "      <td>STON/O2. 3101282</td>\n",
       "      <td>7.9250</td>\n",
       "      <td>NaN</td>\n",
       "      <td>S</td>\n",
       "      <td>-3.699118</td>\n",
       "      <td>-1.915709</td>\n",
       "    </tr>\n",
       "    <tr>\n",
       "      <th>3</th>\n",
       "      <td>4</td>\n",
       "      <td>1</td>\n",
       "      <td>1</td>\n",
       "      <td>Futrelle, Mrs. Jacques Heath (Lily May Peel)</td>\n",
       "      <td>female</td>\n",
       "      <td>35.0</td>\n",
       "      <td>1</td>\n",
       "      <td>0</td>\n",
       "      <td>113803</td>\n",
       "      <td>53.1000</td>\n",
       "      <td>C123</td>\n",
       "      <td>S</td>\n",
       "      <td>5.300882</td>\n",
       "      <td>7.084291</td>\n",
       "    </tr>\n",
       "    <tr>\n",
       "      <th>4</th>\n",
       "      <td>5</td>\n",
       "      <td>0</td>\n",
       "      <td>3</td>\n",
       "      <td>Allen, Mr. William Henry</td>\n",
       "      <td>male</td>\n",
       "      <td>35.0</td>\n",
       "      <td>0</td>\n",
       "      <td>0</td>\n",
       "      <td>373450</td>\n",
       "      <td>8.0500</td>\n",
       "      <td>NaN</td>\n",
       "      <td>S</td>\n",
       "      <td>5.300882</td>\n",
       "      <td>4.273355</td>\n",
       "    </tr>\n",
       "  </tbody>\n",
       "</table>\n",
       "</div>"
      ],
      "text/plain": [
       "   PassengerId  Survived  Pclass  \\\n",
       "0            1         0       3   \n",
       "1            2         1       1   \n",
       "2            3         1       3   \n",
       "3            4         1       1   \n",
       "4            5         0       3   \n",
       "\n",
       "                                                Name     Sex   Age  SibSp  \\\n",
       "0                            Braund, Mr. Owen Harris    male  22.0      1   \n",
       "1  Cumings, Mrs. John Bradley (Florence Briggs Th...  female  38.0      1   \n",
       "2                             Heikkinen, Miss. Laina  female  26.0      0   \n",
       "3       Futrelle, Mrs. Jacques Heath (Lily May Peel)  female  35.0      1   \n",
       "4                           Allen, Mr. William Henry    male  35.0      0   \n",
       "\n",
       "   Parch            Ticket     Fare Cabin Embarked  mean_age_diff  \\\n",
       "0      0         A/5 21171   7.2500   NaN        S      -7.699118   \n",
       "1      0          PC 17599  71.2833   C85        C       8.300882   \n",
       "2      0  STON/O2. 3101282   7.9250   NaN        S      -3.699118   \n",
       "3      0            113803  53.1000  C123        S       5.300882   \n",
       "4      0            373450   8.0500   NaN        S       5.300882   \n",
       "\n",
       "   mean_age_diff_per_sex  \n",
       "0              -8.726645  \n",
       "1              10.084291  \n",
       "2              -1.915709  \n",
       "3               7.084291  \n",
       "4               4.273355  "
      ]
     },
     "execution_count": 50,
     "metadata": {},
     "output_type": "execute_result"
    }
   ],
   "source": [
    "titanic['mean_age_diff_per_sex'] = pd.Series('', index=titanic.index)\n",
    "titanic[['mean_age_diff_per_sex']] = titanic.apply(lambda x: x['Age']-mean_attributes_by_sex.loc[x['Sex'],'Age'], axis=1)\n",
    "titanic.head()"
   ]
  },
  {
   "cell_type": "code",
   "execution_count": 51,
   "metadata": {},
   "outputs": [
    {
     "data": {
      "text/html": [
       "<div>\n",
       "<style scoped>\n",
       "    .dataframe tbody tr th:only-of-type {\n",
       "        vertical-align: middle;\n",
       "    }\n",
       "\n",
       "    .dataframe tbody tr th {\n",
       "        vertical-align: top;\n",
       "    }\n",
       "\n",
       "    .dataframe thead th {\n",
       "        text-align: right;\n",
       "    }\n",
       "</style>\n",
       "<table border=\"1\" class=\"dataframe\">\n",
       "  <thead>\n",
       "    <tr style=\"text-align: right;\">\n",
       "      <th></th>\n",
       "      <th>PassengerId</th>\n",
       "      <th>Survived</th>\n",
       "      <th>Pclass</th>\n",
       "      <th>Age</th>\n",
       "      <th>SibSp</th>\n",
       "      <th>Parch</th>\n",
       "      <th>Fare</th>\n",
       "      <th>mean_age_diff</th>\n",
       "      <th>mean_age_diff_per_sex</th>\n",
       "    </tr>\n",
       "  </thead>\n",
       "  <tbody>\n",
       "    <tr>\n",
       "      <th>1</th>\n",
       "      <td>2</td>\n",
       "      <td>1</td>\n",
       "      <td>1</td>\n",
       "      <td>38.0</td>\n",
       "      <td>1</td>\n",
       "      <td>0</td>\n",
       "      <td>71.2833</td>\n",
       "      <td>8.300882</td>\n",
       "      <td>10.084291</td>\n",
       "    </tr>\n",
       "    <tr>\n",
       "      <th>3</th>\n",
       "      <td>4</td>\n",
       "      <td>1</td>\n",
       "      <td>1</td>\n",
       "      <td>35.0</td>\n",
       "      <td>1</td>\n",
       "      <td>0</td>\n",
       "      <td>53.1000</td>\n",
       "      <td>5.300882</td>\n",
       "      <td>7.084291</td>\n",
       "    </tr>\n",
       "    <tr>\n",
       "      <th>6</th>\n",
       "      <td>7</td>\n",
       "      <td>0</td>\n",
       "      <td>1</td>\n",
       "      <td>54.0</td>\n",
       "      <td>0</td>\n",
       "      <td>0</td>\n",
       "      <td>51.8625</td>\n",
       "      <td>24.300882</td>\n",
       "      <td>23.273355</td>\n",
       "    </tr>\n",
       "    <tr>\n",
       "      <th>10</th>\n",
       "      <td>11</td>\n",
       "      <td>1</td>\n",
       "      <td>3</td>\n",
       "      <td>4.0</td>\n",
       "      <td>1</td>\n",
       "      <td>1</td>\n",
       "      <td>16.7000</td>\n",
       "      <td>-25.699118</td>\n",
       "      <td>-23.915709</td>\n",
       "    </tr>\n",
       "    <tr>\n",
       "      <th>11</th>\n",
       "      <td>12</td>\n",
       "      <td>1</td>\n",
       "      <td>1</td>\n",
       "      <td>58.0</td>\n",
       "      <td>0</td>\n",
       "      <td>0</td>\n",
       "      <td>26.5500</td>\n",
       "      <td>28.300882</td>\n",
       "      <td>30.084291</td>\n",
       "    </tr>\n",
       "  </tbody>\n",
       "</table>\n",
       "</div>"
      ],
      "text/plain": [
       "    PassengerId  Survived  Pclass   Age  SibSp  Parch     Fare  mean_age_diff  \\\n",
       "1             2         1       1  38.0      1      0  71.2833       8.300882   \n",
       "3             4         1       1  35.0      1      0  53.1000       5.300882   \n",
       "6             7         0       1  54.0      0      0  51.8625      24.300882   \n",
       "10           11         1       3   4.0      1      1  16.7000     -25.699118   \n",
       "11           12         1       1  58.0      0      0  26.5500      28.300882   \n",
       "\n",
       "    mean_age_diff_per_sex  \n",
       "1               10.084291  \n",
       "3                7.084291  \n",
       "6               23.273355  \n",
       "10             -23.915709  \n",
       "11              30.084291  "
      ]
     },
     "execution_count": 51,
     "metadata": {},
     "output_type": "execute_result"
    }
   ],
   "source": [
    "combined = titanic.dropna()._get_numeric_data()\n",
    "combined.head()"
   ]
  },
  {
   "cell_type": "markdown",
   "metadata": {},
   "source": [
    "### Polynomiálne kombinovanie"
   ]
  },
  {
   "cell_type": "code",
   "execution_count": 52,
   "metadata": {},
   "outputs": [
    {
     "data": {
      "text/plain": [
       "array([[0, 1],\n",
       "       [2, 3],\n",
       "       [4, 5]])"
      ]
     },
     "execution_count": 52,
     "metadata": {},
     "output_type": "execute_result"
    }
   ],
   "source": [
    "X = np.arange(6).reshape(3, 2)\n",
    "X"
   ]
  },
  {
   "cell_type": "code",
   "execution_count": 53,
   "metadata": {},
   "outputs": [
    {
     "data": {
      "text/plain": [
       "array([[  1.,   0.,   1.,   0.,   0.,   1.,   0.,   0.,   0.,   1.],\n",
       "       [  1.,   2.,   3.,   4.,   6.,   9.,   8.,  12.,  18.,  27.],\n",
       "       [  1.,   4.,   5.,  16.,  20.,  25.,  64.,  80., 100., 125.]])"
      ]
     },
     "execution_count": 53,
     "metadata": {},
     "output_type": "execute_result"
    }
   ],
   "source": [
    "poly = preprocessing.PolynomialFeatures(3)\n",
    "poly.fit_transform(X) # vytvorenie polynomialnych kombinacii"
   ]
  },
  {
   "cell_type": "code",
   "execution_count": 54,
   "metadata": {
    "collapsed": true
   },
   "outputs": [],
   "source": [
    "# nevieme pouzivat prazdne hodnoty pri vypocte polynomialnych vlastnosti\n",
    "titanic_X = titanic.dropna().reindex(columns=[x for x in titanic.columns.values if x != 'Survived']).reset_index(drop=True)\n",
    "titanic_y = titanic.dropna().reindex(columns=['Survived']).reset_index(drop=True)"
   ]
  },
  {
   "cell_type": "code",
   "execution_count": 55,
   "metadata": {
    "collapsed": true
   },
   "outputs": [],
   "source": [
    "poly = preprocessing.PolynomialFeatures(2) # pozor na prilis velke cislo. Vela atributov a pretrenovanie\n",
    "# polynomial_titanic = poly.fit_transform(titanic_X)\n",
    "polynomial_titanic = poly.fit_transform(titanic_X._get_numeric_data())"
   ]
  },
  {
   "cell_type": "code",
   "execution_count": 56,
   "metadata": {},
   "outputs": [
    {
     "data": {
      "text/html": [
       "<div>\n",
       "<style scoped>\n",
       "    .dataframe tbody tr th:only-of-type {\n",
       "        vertical-align: middle;\n",
       "    }\n",
       "\n",
       "    .dataframe tbody tr th {\n",
       "        vertical-align: top;\n",
       "    }\n",
       "\n",
       "    .dataframe thead th {\n",
       "        text-align: right;\n",
       "    }\n",
       "</style>\n",
       "<table border=\"1\" class=\"dataframe\">\n",
       "  <thead>\n",
       "    <tr style=\"text-align: right;\">\n",
       "      <th></th>\n",
       "      <th>0</th>\n",
       "      <th>1</th>\n",
       "      <th>2</th>\n",
       "      <th>3</th>\n",
       "      <th>4</th>\n",
       "      <th>5</th>\n",
       "      <th>6</th>\n",
       "      <th>7</th>\n",
       "      <th>8</th>\n",
       "      <th>9</th>\n",
       "      <th>...</th>\n",
       "      <th>35</th>\n",
       "      <th>36</th>\n",
       "      <th>37</th>\n",
       "      <th>38</th>\n",
       "      <th>39</th>\n",
       "      <th>40</th>\n",
       "      <th>41</th>\n",
       "      <th>42</th>\n",
       "      <th>43</th>\n",
       "      <th>44</th>\n",
       "    </tr>\n",
       "  </thead>\n",
       "  <tbody>\n",
       "    <tr>\n",
       "      <th>0</th>\n",
       "      <td>1.0</td>\n",
       "      <td>2.0</td>\n",
       "      <td>1.0</td>\n",
       "      <td>38.0</td>\n",
       "      <td>1.0</td>\n",
       "      <td>0.0</td>\n",
       "      <td>71.2833</td>\n",
       "      <td>8.300882</td>\n",
       "      <td>10.084291</td>\n",
       "      <td>4.0</td>\n",
       "      <td>...</td>\n",
       "      <td>0.0</td>\n",
       "      <td>0.0</td>\n",
       "      <td>0.000000</td>\n",
       "      <td>0.000000</td>\n",
       "      <td>5081.308859</td>\n",
       "      <td>591.714287</td>\n",
       "      <td>718.841554</td>\n",
       "      <td>68.904648</td>\n",
       "      <td>83.708515</td>\n",
       "      <td>101.692929</td>\n",
       "    </tr>\n",
       "    <tr>\n",
       "      <th>1</th>\n",
       "      <td>1.0</td>\n",
       "      <td>4.0</td>\n",
       "      <td>1.0</td>\n",
       "      <td>35.0</td>\n",
       "      <td>1.0</td>\n",
       "      <td>0.0</td>\n",
       "      <td>53.1000</td>\n",
       "      <td>5.300882</td>\n",
       "      <td>7.084291</td>\n",
       "      <td>16.0</td>\n",
       "      <td>...</td>\n",
       "      <td>0.0</td>\n",
       "      <td>0.0</td>\n",
       "      <td>0.000000</td>\n",
       "      <td>0.000000</td>\n",
       "      <td>2819.610000</td>\n",
       "      <td>281.476853</td>\n",
       "      <td>376.175862</td>\n",
       "      <td>28.099354</td>\n",
       "      <td>37.552994</td>\n",
       "      <td>50.187182</td>\n",
       "    </tr>\n",
       "    <tr>\n",
       "      <th>2</th>\n",
       "      <td>1.0</td>\n",
       "      <td>7.0</td>\n",
       "      <td>1.0</td>\n",
       "      <td>54.0</td>\n",
       "      <td>0.0</td>\n",
       "      <td>0.0</td>\n",
       "      <td>51.8625</td>\n",
       "      <td>24.300882</td>\n",
       "      <td>23.273355</td>\n",
       "      <td>49.0</td>\n",
       "      <td>...</td>\n",
       "      <td>0.0</td>\n",
       "      <td>0.0</td>\n",
       "      <td>0.000000</td>\n",
       "      <td>0.000000</td>\n",
       "      <td>2689.718906</td>\n",
       "      <td>1260.304511</td>\n",
       "      <td>1207.014395</td>\n",
       "      <td>590.532883</td>\n",
       "      <td>565.563072</td>\n",
       "      <td>541.649072</td>\n",
       "    </tr>\n",
       "    <tr>\n",
       "      <th>3</th>\n",
       "      <td>1.0</td>\n",
       "      <td>11.0</td>\n",
       "      <td>3.0</td>\n",
       "      <td>4.0</td>\n",
       "      <td>1.0</td>\n",
       "      <td>1.0</td>\n",
       "      <td>16.7000</td>\n",
       "      <td>-25.699118</td>\n",
       "      <td>-23.915709</td>\n",
       "      <td>121.0</td>\n",
       "      <td>...</td>\n",
       "      <td>1.0</td>\n",
       "      <td>16.7</td>\n",
       "      <td>-25.699118</td>\n",
       "      <td>-23.915709</td>\n",
       "      <td>278.890000</td>\n",
       "      <td>-429.175265</td>\n",
       "      <td>-399.392337</td>\n",
       "      <td>660.444648</td>\n",
       "      <td>614.612614</td>\n",
       "      <td>571.961128</td>\n",
       "    </tr>\n",
       "    <tr>\n",
       "      <th>4</th>\n",
       "      <td>1.0</td>\n",
       "      <td>12.0</td>\n",
       "      <td>1.0</td>\n",
       "      <td>58.0</td>\n",
       "      <td>0.0</td>\n",
       "      <td>0.0</td>\n",
       "      <td>26.5500</td>\n",
       "      <td>28.300882</td>\n",
       "      <td>30.084291</td>\n",
       "      <td>144.0</td>\n",
       "      <td>...</td>\n",
       "      <td>0.0</td>\n",
       "      <td>0.0</td>\n",
       "      <td>0.000000</td>\n",
       "      <td>0.000000</td>\n",
       "      <td>704.902500</td>\n",
       "      <td>751.388426</td>\n",
       "      <td>798.737931</td>\n",
       "      <td>800.939942</td>\n",
       "      <td>851.411986</td>\n",
       "      <td>905.064576</td>\n",
       "    </tr>\n",
       "  </tbody>\n",
       "</table>\n",
       "<p>5 rows × 45 columns</p>\n",
       "</div>"
      ],
      "text/plain": [
       "    0     1    2     3    4    5        6          7          8      9   \\\n",
       "0  1.0   2.0  1.0  38.0  1.0  0.0  71.2833   8.300882  10.084291    4.0   \n",
       "1  1.0   4.0  1.0  35.0  1.0  0.0  53.1000   5.300882   7.084291   16.0   \n",
       "2  1.0   7.0  1.0  54.0  0.0  0.0  51.8625  24.300882  23.273355   49.0   \n",
       "3  1.0  11.0  3.0   4.0  1.0  1.0  16.7000 -25.699118 -23.915709  121.0   \n",
       "4  1.0  12.0  1.0  58.0  0.0  0.0  26.5500  28.300882  30.084291  144.0   \n",
       "\n",
       "      ...       35    36         37         38           39           40  \\\n",
       "0     ...      0.0   0.0   0.000000   0.000000  5081.308859   591.714287   \n",
       "1     ...      0.0   0.0   0.000000   0.000000  2819.610000   281.476853   \n",
       "2     ...      0.0   0.0   0.000000   0.000000  2689.718906  1260.304511   \n",
       "3     ...      1.0  16.7 -25.699118 -23.915709   278.890000  -429.175265   \n",
       "4     ...      0.0   0.0   0.000000   0.000000   704.902500   751.388426   \n",
       "\n",
       "            41          42          43          44  \n",
       "0   718.841554   68.904648   83.708515  101.692929  \n",
       "1   376.175862   28.099354   37.552994   50.187182  \n",
       "2  1207.014395  590.532883  565.563072  541.649072  \n",
       "3  -399.392337  660.444648  614.612614  571.961128  \n",
       "4   798.737931  800.939942  851.411986  905.064576  \n",
       "\n",
       "[5 rows x 45 columns]"
      ]
     },
     "execution_count": 56,
     "metadata": {},
     "output_type": "execute_result"
    }
   ],
   "source": [
    "polynomial = pd.DataFrame(polynomial_titanic)\n",
    "polynomial.head()"
   ]
  },
  {
   "cell_type": "code",
   "execution_count": 57,
   "metadata": {},
   "outputs": [
    {
     "data": {
      "text/html": [
       "<div>\n",
       "<style scoped>\n",
       "    .dataframe tbody tr th:only-of-type {\n",
       "        vertical-align: middle;\n",
       "    }\n",
       "\n",
       "    .dataframe tbody tr th {\n",
       "        vertical-align: top;\n",
       "    }\n",
       "\n",
       "    .dataframe thead th {\n",
       "        text-align: right;\n",
       "    }\n",
       "</style>\n",
       "<table border=\"1\" class=\"dataframe\">\n",
       "  <thead>\n",
       "    <tr style=\"text-align: right;\">\n",
       "      <th></th>\n",
       "      <th>PassengerId</th>\n",
       "      <th>Pclass</th>\n",
       "      <th>Age</th>\n",
       "      <th>SibSp</th>\n",
       "      <th>Parch</th>\n",
       "      <th>Fare</th>\n",
       "      <th>mean_age_diff</th>\n",
       "      <th>mean_age_diff_per_sex</th>\n",
       "    </tr>\n",
       "  </thead>\n",
       "  <tbody>\n",
       "    <tr>\n",
       "      <th>0</th>\n",
       "      <td>2</td>\n",
       "      <td>1</td>\n",
       "      <td>38.0</td>\n",
       "      <td>1</td>\n",
       "      <td>0</td>\n",
       "      <td>71.2833</td>\n",
       "      <td>8.300882</td>\n",
       "      <td>10.084291</td>\n",
       "    </tr>\n",
       "    <tr>\n",
       "      <th>1</th>\n",
       "      <td>4</td>\n",
       "      <td>1</td>\n",
       "      <td>35.0</td>\n",
       "      <td>1</td>\n",
       "      <td>0</td>\n",
       "      <td>53.1000</td>\n",
       "      <td>5.300882</td>\n",
       "      <td>7.084291</td>\n",
       "    </tr>\n",
       "    <tr>\n",
       "      <th>2</th>\n",
       "      <td>7</td>\n",
       "      <td>1</td>\n",
       "      <td>54.0</td>\n",
       "      <td>0</td>\n",
       "      <td>0</td>\n",
       "      <td>51.8625</td>\n",
       "      <td>24.300882</td>\n",
       "      <td>23.273355</td>\n",
       "    </tr>\n",
       "    <tr>\n",
       "      <th>3</th>\n",
       "      <td>11</td>\n",
       "      <td>3</td>\n",
       "      <td>4.0</td>\n",
       "      <td>1</td>\n",
       "      <td>1</td>\n",
       "      <td>16.7000</td>\n",
       "      <td>-25.699118</td>\n",
       "      <td>-23.915709</td>\n",
       "    </tr>\n",
       "    <tr>\n",
       "      <th>4</th>\n",
       "      <td>12</td>\n",
       "      <td>1</td>\n",
       "      <td>58.0</td>\n",
       "      <td>0</td>\n",
       "      <td>0</td>\n",
       "      <td>26.5500</td>\n",
       "      <td>28.300882</td>\n",
       "      <td>30.084291</td>\n",
       "    </tr>\n",
       "  </tbody>\n",
       "</table>\n",
       "</div>"
      ],
      "text/plain": [
       "   PassengerId  Pclass   Age  SibSp  Parch     Fare  mean_age_diff  \\\n",
       "0            2       1  38.0      1      0  71.2833       8.300882   \n",
       "1            4       1  35.0      1      0  53.1000       5.300882   \n",
       "2            7       1  54.0      0      0  51.8625      24.300882   \n",
       "3           11       3   4.0      1      1  16.7000     -25.699118   \n",
       "4           12       1  58.0      0      0  26.5500      28.300882   \n",
       "\n",
       "   mean_age_diff_per_sex  \n",
       "0              10.084291  \n",
       "1               7.084291  \n",
       "2              23.273355  \n",
       "3             -23.915709  \n",
       "4              30.084291  "
      ]
     },
     "execution_count": 57,
     "metadata": {},
     "output_type": "execute_result"
    }
   ],
   "source": [
    "titanic_X._get_numeric_data().head()"
   ]
  },
  {
   "cell_type": "markdown",
   "metadata": {},
   "source": [
    "ak by ste chceli zachovat rozumne nazvy stlpcov: http://stackoverflow.com/questions/36728287/sklearn-preprocessing-polynomialfeatures-how-to-keep-column-names-headers-of"
   ]
  },
  {
   "cell_type": "code",
   "execution_count": 58,
   "metadata": {},
   "outputs": [
    {
     "data": {
      "text/html": [
       "<div>\n",
       "<style scoped>\n",
       "    .dataframe tbody tr th:only-of-type {\n",
       "        vertical-align: middle;\n",
       "    }\n",
       "\n",
       "    .dataframe tbody tr th {\n",
       "        vertical-align: top;\n",
       "    }\n",
       "\n",
       "    .dataframe thead th {\n",
       "        text-align: right;\n",
       "    }\n",
       "</style>\n",
       "<table border=\"1\" class=\"dataframe\">\n",
       "  <thead>\n",
       "    <tr style=\"text-align: right;\">\n",
       "      <th></th>\n",
       "      <th>0</th>\n",
       "      <th>1</th>\n",
       "      <th>2</th>\n",
       "      <th>3</th>\n",
       "      <th>4</th>\n",
       "      <th>5</th>\n",
       "      <th>6</th>\n",
       "      <th>7</th>\n",
       "      <th>8</th>\n",
       "      <th>9</th>\n",
       "      <th>...</th>\n",
       "      <th>36</th>\n",
       "      <th>37</th>\n",
       "      <th>38</th>\n",
       "      <th>39</th>\n",
       "      <th>40</th>\n",
       "      <th>41</th>\n",
       "      <th>42</th>\n",
       "      <th>43</th>\n",
       "      <th>44</th>\n",
       "      <th>Survived</th>\n",
       "    </tr>\n",
       "  </thead>\n",
       "  <tbody>\n",
       "    <tr>\n",
       "      <th>0</th>\n",
       "      <td>1.0</td>\n",
       "      <td>2.0</td>\n",
       "      <td>1.0</td>\n",
       "      <td>38.0</td>\n",
       "      <td>1.0</td>\n",
       "      <td>0.0</td>\n",
       "      <td>71.2833</td>\n",
       "      <td>8.300882</td>\n",
       "      <td>10.084291</td>\n",
       "      <td>4.0</td>\n",
       "      <td>...</td>\n",
       "      <td>0.0</td>\n",
       "      <td>0.000000</td>\n",
       "      <td>0.000000</td>\n",
       "      <td>5081.308859</td>\n",
       "      <td>591.714287</td>\n",
       "      <td>718.841554</td>\n",
       "      <td>68.904648</td>\n",
       "      <td>83.708515</td>\n",
       "      <td>101.692929</td>\n",
       "      <td>1</td>\n",
       "    </tr>\n",
       "    <tr>\n",
       "      <th>1</th>\n",
       "      <td>1.0</td>\n",
       "      <td>4.0</td>\n",
       "      <td>1.0</td>\n",
       "      <td>35.0</td>\n",
       "      <td>1.0</td>\n",
       "      <td>0.0</td>\n",
       "      <td>53.1000</td>\n",
       "      <td>5.300882</td>\n",
       "      <td>7.084291</td>\n",
       "      <td>16.0</td>\n",
       "      <td>...</td>\n",
       "      <td>0.0</td>\n",
       "      <td>0.000000</td>\n",
       "      <td>0.000000</td>\n",
       "      <td>2819.610000</td>\n",
       "      <td>281.476853</td>\n",
       "      <td>376.175862</td>\n",
       "      <td>28.099354</td>\n",
       "      <td>37.552994</td>\n",
       "      <td>50.187182</td>\n",
       "      <td>1</td>\n",
       "    </tr>\n",
       "    <tr>\n",
       "      <th>2</th>\n",
       "      <td>1.0</td>\n",
       "      <td>7.0</td>\n",
       "      <td>1.0</td>\n",
       "      <td>54.0</td>\n",
       "      <td>0.0</td>\n",
       "      <td>0.0</td>\n",
       "      <td>51.8625</td>\n",
       "      <td>24.300882</td>\n",
       "      <td>23.273355</td>\n",
       "      <td>49.0</td>\n",
       "      <td>...</td>\n",
       "      <td>0.0</td>\n",
       "      <td>0.000000</td>\n",
       "      <td>0.000000</td>\n",
       "      <td>2689.718906</td>\n",
       "      <td>1260.304511</td>\n",
       "      <td>1207.014395</td>\n",
       "      <td>590.532883</td>\n",
       "      <td>565.563072</td>\n",
       "      <td>541.649072</td>\n",
       "      <td>0</td>\n",
       "    </tr>\n",
       "    <tr>\n",
       "      <th>3</th>\n",
       "      <td>1.0</td>\n",
       "      <td>11.0</td>\n",
       "      <td>3.0</td>\n",
       "      <td>4.0</td>\n",
       "      <td>1.0</td>\n",
       "      <td>1.0</td>\n",
       "      <td>16.7000</td>\n",
       "      <td>-25.699118</td>\n",
       "      <td>-23.915709</td>\n",
       "      <td>121.0</td>\n",
       "      <td>...</td>\n",
       "      <td>16.7</td>\n",
       "      <td>-25.699118</td>\n",
       "      <td>-23.915709</td>\n",
       "      <td>278.890000</td>\n",
       "      <td>-429.175265</td>\n",
       "      <td>-399.392337</td>\n",
       "      <td>660.444648</td>\n",
       "      <td>614.612614</td>\n",
       "      <td>571.961128</td>\n",
       "      <td>1</td>\n",
       "    </tr>\n",
       "    <tr>\n",
       "      <th>4</th>\n",
       "      <td>1.0</td>\n",
       "      <td>12.0</td>\n",
       "      <td>1.0</td>\n",
       "      <td>58.0</td>\n",
       "      <td>0.0</td>\n",
       "      <td>0.0</td>\n",
       "      <td>26.5500</td>\n",
       "      <td>28.300882</td>\n",
       "      <td>30.084291</td>\n",
       "      <td>144.0</td>\n",
       "      <td>...</td>\n",
       "      <td>0.0</td>\n",
       "      <td>0.000000</td>\n",
       "      <td>0.000000</td>\n",
       "      <td>704.902500</td>\n",
       "      <td>751.388426</td>\n",
       "      <td>798.737931</td>\n",
       "      <td>800.939942</td>\n",
       "      <td>851.411986</td>\n",
       "      <td>905.064576</td>\n",
       "      <td>1</td>\n",
       "    </tr>\n",
       "  </tbody>\n",
       "</table>\n",
       "<p>5 rows × 46 columns</p>\n",
       "</div>"
      ],
      "text/plain": [
       "     0     1    2     3    4    5        6          7          8      9  \\\n",
       "0  1.0   2.0  1.0  38.0  1.0  0.0  71.2833   8.300882  10.084291    4.0   \n",
       "1  1.0   4.0  1.0  35.0  1.0  0.0  53.1000   5.300882   7.084291   16.0   \n",
       "2  1.0   7.0  1.0  54.0  0.0  0.0  51.8625  24.300882  23.273355   49.0   \n",
       "3  1.0  11.0  3.0   4.0  1.0  1.0  16.7000 -25.699118 -23.915709  121.0   \n",
       "4  1.0  12.0  1.0  58.0  0.0  0.0  26.5500  28.300882  30.084291  144.0   \n",
       "\n",
       "     ...       36         37         38           39           40  \\\n",
       "0    ...      0.0   0.000000   0.000000  5081.308859   591.714287   \n",
       "1    ...      0.0   0.000000   0.000000  2819.610000   281.476853   \n",
       "2    ...      0.0   0.000000   0.000000  2689.718906  1260.304511   \n",
       "3    ...     16.7 -25.699118 -23.915709   278.890000  -429.175265   \n",
       "4    ...      0.0   0.000000   0.000000   704.902500   751.388426   \n",
       "\n",
       "            41          42          43          44  Survived  \n",
       "0   718.841554   68.904648   83.708515  101.692929         1  \n",
       "1   376.175862   28.099354   37.552994   50.187182         1  \n",
       "2  1207.014395  590.532883  565.563072  541.649072         0  \n",
       "3  -399.392337  660.444648  614.612614  571.961128         1  \n",
       "4   798.737931  800.939942  851.411986  905.064576         1  \n",
       "\n",
       "[5 rows x 46 columns]"
      ]
     },
     "execution_count": 58,
     "metadata": {},
     "output_type": "execute_result"
    }
   ],
   "source": [
    "polynomial['Survived'] = titanic_y\n",
    "polynomial.head()"
   ]
  },
  {
   "cell_type": "code",
   "execution_count": 59,
   "metadata": {},
   "outputs": [
    {
     "data": {
      "text/plain": [
       "(0.6125448028673836, 0.10627345916897321)"
      ]
     },
     "execution_count": 59,
     "metadata": {},
     "output_type": "execute_result"
    }
   ],
   "source": [
    "from sklearn.model_selection import cross_val_score\n",
    "# clf = LogisticRegression()\n",
    "from sklearn.tree import DecisionTreeClassifier\n",
    "clf = DecisionTreeClassifier(max_depth=5)\n",
    "\n",
    "cross_validation_results = cross_val_score(clf, polynomial[polynomial.columns[polynomial.columns != 'Survived']], polynomial['Survived'], cv=6)\n",
    "(cross_validation_results.mean(), cross_validation_results.std())"
   ]
  },
  {
   "cell_type": "code",
   "execution_count": 60,
   "metadata": {},
   "outputs": [
    {
     "data": {
      "text/plain": [
       "array([0.41935484, 0.58064516, 0.74193548, 0.7       , 0.56666667,\n",
       "       0.66666667])"
      ]
     },
     "execution_count": 60,
     "metadata": {},
     "output_type": "execute_result"
    }
   ],
   "source": [
    "cross_validation_results"
   ]
  },
  {
   "cell_type": "code",
   "execution_count": 61,
   "metadata": {},
   "outputs": [
    {
     "data": {
      "text/html": [
       "<div>\n",
       "<style scoped>\n",
       "    .dataframe tbody tr th:only-of-type {\n",
       "        vertical-align: middle;\n",
       "    }\n",
       "\n",
       "    .dataframe tbody tr th {\n",
       "        vertical-align: top;\n",
       "    }\n",
       "\n",
       "    .dataframe thead th {\n",
       "        text-align: right;\n",
       "    }\n",
       "</style>\n",
       "<table border=\"1\" class=\"dataframe\">\n",
       "  <thead>\n",
       "    <tr style=\"text-align: right;\">\n",
       "      <th></th>\n",
       "      <th>PassengerId</th>\n",
       "      <th>Survived</th>\n",
       "      <th>Pclass</th>\n",
       "      <th>Age</th>\n",
       "      <th>SibSp</th>\n",
       "      <th>Parch</th>\n",
       "      <th>Fare</th>\n",
       "      <th>mean_age_diff</th>\n",
       "      <th>mean_age_diff_per_sex</th>\n",
       "    </tr>\n",
       "  </thead>\n",
       "  <tbody>\n",
       "    <tr>\n",
       "      <th>1</th>\n",
       "      <td>2</td>\n",
       "      <td>1</td>\n",
       "      <td>1</td>\n",
       "      <td>38.0</td>\n",
       "      <td>1</td>\n",
       "      <td>0</td>\n",
       "      <td>71.2833</td>\n",
       "      <td>8.300882</td>\n",
       "      <td>10.084291</td>\n",
       "    </tr>\n",
       "    <tr>\n",
       "      <th>3</th>\n",
       "      <td>4</td>\n",
       "      <td>1</td>\n",
       "      <td>1</td>\n",
       "      <td>35.0</td>\n",
       "      <td>1</td>\n",
       "      <td>0</td>\n",
       "      <td>53.1000</td>\n",
       "      <td>5.300882</td>\n",
       "      <td>7.084291</td>\n",
       "    </tr>\n",
       "    <tr>\n",
       "      <th>6</th>\n",
       "      <td>7</td>\n",
       "      <td>0</td>\n",
       "      <td>1</td>\n",
       "      <td>54.0</td>\n",
       "      <td>0</td>\n",
       "      <td>0</td>\n",
       "      <td>51.8625</td>\n",
       "      <td>24.300882</td>\n",
       "      <td>23.273355</td>\n",
       "    </tr>\n",
       "    <tr>\n",
       "      <th>10</th>\n",
       "      <td>11</td>\n",
       "      <td>1</td>\n",
       "      <td>3</td>\n",
       "      <td>4.0</td>\n",
       "      <td>1</td>\n",
       "      <td>1</td>\n",
       "      <td>16.7000</td>\n",
       "      <td>-25.699118</td>\n",
       "      <td>-23.915709</td>\n",
       "    </tr>\n",
       "    <tr>\n",
       "      <th>11</th>\n",
       "      <td>12</td>\n",
       "      <td>1</td>\n",
       "      <td>1</td>\n",
       "      <td>58.0</td>\n",
       "      <td>0</td>\n",
       "      <td>0</td>\n",
       "      <td>26.5500</td>\n",
       "      <td>28.300882</td>\n",
       "      <td>30.084291</td>\n",
       "    </tr>\n",
       "  </tbody>\n",
       "</table>\n",
       "</div>"
      ],
      "text/plain": [
       "    PassengerId  Survived  Pclass   Age  SibSp  Parch     Fare  mean_age_diff  \\\n",
       "1             2         1       1  38.0      1      0  71.2833       8.300882   \n",
       "3             4         1       1  35.0      1      0  53.1000       5.300882   \n",
       "6             7         0       1  54.0      0      0  51.8625      24.300882   \n",
       "10           11         1       3   4.0      1      1  16.7000     -25.699118   \n",
       "11           12         1       1  58.0      0      0  26.5500      28.300882   \n",
       "\n",
       "    mean_age_diff_per_sex  \n",
       "1               10.084291  \n",
       "3                7.084291  \n",
       "6               23.273355  \n",
       "10             -23.915709  \n",
       "11              30.084291  "
      ]
     },
     "execution_count": 61,
     "metadata": {},
     "output_type": "execute_result"
    }
   ],
   "source": [
    "original = titanic.dropna()._get_numeric_data()\n",
    "original.head()"
   ]
  },
  {
   "cell_type": "code",
   "execution_count": 62,
   "metadata": {},
   "outputs": [
    {
     "data": {
      "text/plain": [
       "183"
      ]
     },
     "execution_count": 62,
     "metadata": {},
     "output_type": "execute_result"
    }
   ],
   "source": [
    "len(original)"
   ]
  },
  {
   "cell_type": "code",
   "execution_count": 63,
   "metadata": {},
   "outputs": [
    {
     "data": {
      "text/plain": [
       "(0.5044802867383513, 0.14523085637831115)"
      ]
     },
     "execution_count": 63,
     "metadata": {},
     "output_type": "execute_result"
    }
   ],
   "source": [
    "from sklearn.model_selection import cross_val_score\n",
    "from sklearn.tree import DecisionTreeClassifier\n",
    "clf = DecisionTreeClassifier(max_depth=5)\n",
    "\n",
    "\n",
    "cross_validation_results = cross_val_score(clf, original[original.columns[original.columns != 'Survived']], original['Survived'], cv=6)\n",
    "(cross_validation_results.mean(), cross_validation_results.std())"
   ]
  },
  {
   "cell_type": "markdown",
   "metadata": {},
   "source": [
    "# Varovanie k vyrábaniu a transformácii atribútov\n",
    "\n",
    "* Keď budete robiť hociaké operácie nad dátami, tak si dajte pozor, aby ste robili rovnaké operácie nad trénovacou aj testovacou sadou (transformácie atribútov, vytváranie nových, filtrovanie ...)\n",
    "* Dajte si pozor, aby vám do trénovania nepretiekli údaje z budúcnosti\n",
    "  * keď idem napríklad normalizovať niečo priemerom, tak hodnotu priemeru počítam len nad trénovacími dátami, a nie nad všetkými \n",
    "  * pri tomto vedia veľmi pomôcť tzv. Pipeliny\n",
    "    * http://zacstewart.com/2014/08/05/pipelines-of-featureunions-of-pipelines.html\n",
    "\n",
    "* Keď budete normalizovať údaje, tak na normalizovanie testovacej vzorky použite koeficienty z trénovacej vzorky"
   ]
  },
  {
   "cell_type": "markdown",
   "metadata": {},
   "source": [
    "# Pipelines"
   ]
  },
  {
   "cell_type": "code",
   "execution_count": 64,
   "metadata": {},
   "outputs": [],
   "source": [
    "from sklearn.pipeline import Pipeline"
   ]
  },
  {
   "cell_type": "code",
   "execution_count": 65,
   "metadata": {},
   "outputs": [],
   "source": [
    "from sklearn.pipeline import make_pipeline\n",
    "from sklearn.base import TransformerMixin"
   ]
  },
  {
   "cell_type": "code",
   "execution_count": 66,
   "metadata": {},
   "outputs": [
    {
     "data": {
      "text/html": [
       "<div>\n",
       "<style scoped>\n",
       "    .dataframe tbody tr th:only-of-type {\n",
       "        vertical-align: middle;\n",
       "    }\n",
       "\n",
       "    .dataframe tbody tr th {\n",
       "        vertical-align: top;\n",
       "    }\n",
       "\n",
       "    .dataframe thead th {\n",
       "        text-align: right;\n",
       "    }\n",
       "</style>\n",
       "<table border=\"1\" class=\"dataframe\">\n",
       "  <thead>\n",
       "    <tr style=\"text-align: right;\">\n",
       "      <th></th>\n",
       "      <th>Unnamed: 0</th>\n",
       "      <th>age</th>\n",
       "      <th>on thyroxine</th>\n",
       "      <th>query on thyroxine</th>\n",
       "      <th>pregnant</th>\n",
       "      <th>thyroid surgery</th>\n",
       "      <th>I131 treatment</th>\n",
       "      <th>lithium</th>\n",
       "      <th>goitre</th>\n",
       "      <th>tumor</th>\n",
       "      <th>...</th>\n",
       "      <th>marital-status</th>\n",
       "      <th>occupation</th>\n",
       "      <th>relationship</th>\n",
       "      <th>race</th>\n",
       "      <th>capital-gain</th>\n",
       "      <th>capital-loss</th>\n",
       "      <th>hours-per-week</th>\n",
       "      <th>native-country</th>\n",
       "      <th>date_of_birth</th>\n",
       "      <th>medical_info</th>\n",
       "    </tr>\n",
       "  </thead>\n",
       "  <tbody>\n",
       "    <tr>\n",
       "      <th>0</th>\n",
       "      <td>0</td>\n",
       "      <td>55.0</td>\n",
       "      <td>f</td>\n",
       "      <td>F</td>\n",
       "      <td>f</td>\n",
       "      <td>f</td>\n",
       "      <td>f</td>\n",
       "      <td>f</td>\n",
       "      <td>f</td>\n",
       "      <td>f</td>\n",
       "      <td>...</td>\n",
       "      <td>Married-civ-spouse</td>\n",
       "      <td>Prof-specialty</td>\n",
       "      <td>Husband</td>\n",
       "      <td>White</td>\n",
       "      <td>0</td>\n",
       "      <td>0</td>\n",
       "      <td>40</td>\n",
       "      <td>United-States</td>\n",
       "      <td>1962-12-23</td>\n",
       "      <td>{'TSH measured':'t','sex':'M','query hyperthyr...</td>\n",
       "    </tr>\n",
       "    <tr>\n",
       "      <th>1</th>\n",
       "      <td>1</td>\n",
       "      <td>39.0</td>\n",
       "      <td>f</td>\n",
       "      <td>f</td>\n",
       "      <td>f</td>\n",
       "      <td>f</td>\n",
       "      <td>f</td>\n",
       "      <td>f</td>\n",
       "      <td>f</td>\n",
       "      <td>f</td>\n",
       "      <td>...</td>\n",
       "      <td>Widowed</td>\n",
       "      <td>Farming-fishing</td>\n",
       "      <td>Unmarried</td>\n",
       "      <td>White</td>\n",
       "      <td>0</td>\n",
       "      <td>0</td>\n",
       "      <td>50</td>\n",
       "      <td>United-States</td>\n",
       "      <td>1978-04-07</td>\n",
       "      <td>{'TSH measured':'t','sex':'F','query hyperthyr...</td>\n",
       "    </tr>\n",
       "    <tr>\n",
       "      <th>2</th>\n",
       "      <td>2</td>\n",
       "      <td>NaN</td>\n",
       "      <td>f</td>\n",
       "      <td>f</td>\n",
       "      <td>f</td>\n",
       "      <td>f</td>\n",
       "      <td>f</td>\n",
       "      <td>f</td>\n",
       "      <td>f</td>\n",
       "      <td>f</td>\n",
       "      <td>...</td>\n",
       "      <td>Never-married</td>\n",
       "      <td>Prof-specialty</td>\n",
       "      <td>Not-in-family</td>\n",
       "      <td>White</td>\n",
       "      <td>0</td>\n",
       "      <td>0</td>\n",
       "      <td>32</td>\n",
       "      <td>United-States</td>\n",
       "      <td>1966-06-16</td>\n",
       "      <td>{'TSH measured':'t','sex':'?','query hyperthyr...</td>\n",
       "    </tr>\n",
       "    <tr>\n",
       "      <th>3</th>\n",
       "      <td>3</td>\n",
       "      <td>57.0</td>\n",
       "      <td>f</td>\n",
       "      <td>f</td>\n",
       "      <td>f</td>\n",
       "      <td>f</td>\n",
       "      <td>f</td>\n",
       "      <td>f</td>\n",
       "      <td>f</td>\n",
       "      <td>f</td>\n",
       "      <td>...</td>\n",
       "      <td>Never-married</td>\n",
       "      <td>Exec-managerial</td>\n",
       "      <td>Other-relative</td>\n",
       "      <td>Asian-Pac-Islander</td>\n",
       "      <td>0</td>\n",
       "      <td>0</td>\n",
       "      <td>40</td>\n",
       "      <td>Philippines</td>\n",
       "      <td>1961-01-20</td>\n",
       "      <td>{'TSH measured':'f','sex':'F','query hyperthyr...</td>\n",
       "    </tr>\n",
       "    <tr>\n",
       "      <th>4</th>\n",
       "      <td>4</td>\n",
       "      <td>61.0</td>\n",
       "      <td>f</td>\n",
       "      <td>f</td>\n",
       "      <td>f</td>\n",
       "      <td>f</td>\n",
       "      <td>f</td>\n",
       "      <td>f</td>\n",
       "      <td>f</td>\n",
       "      <td>f</td>\n",
       "      <td>...</td>\n",
       "      <td>Never-married</td>\n",
       "      <td>Exec-managerial</td>\n",
       "      <td>Not-in-family</td>\n",
       "      <td>White</td>\n",
       "      <td>0</td>\n",
       "      <td>0</td>\n",
       "      <td>40</td>\n",
       "      <td>United-States</td>\n",
       "      <td>1956-11-17</td>\n",
       "      <td>{'TSH measured':'t','sex':'M','query hyperthyr...</td>\n",
       "    </tr>\n",
       "  </tbody>\n",
       "</table>\n",
       "<p>5 rows × 35 columns</p>\n",
       "</div>"
      ],
      "text/plain": [
       "   Unnamed: 0   age on thyroxine query on thyroxine pregnant thyroid surgery  \\\n",
       "0           0  55.0            f                  F        f               f   \n",
       "1           1  39.0            f                  f        f               f   \n",
       "2           2   NaN            f                  f        f               f   \n",
       "3           3  57.0            f                  f        f               f   \n",
       "4           4  61.0            f                  f        f               f   \n",
       "\n",
       "  I131 treatment lithium goitre tumor  \\\n",
       "0              f       f      f     f   \n",
       "1              f       f      f     f   \n",
       "2              f       f      f     f   \n",
       "3              f       f      f     f   \n",
       "4              f       f      f     f   \n",
       "\n",
       "                         ...                               marital-status  \\\n",
       "0                        ...                           Married-civ-spouse   \n",
       "1                        ...                                      Widowed   \n",
       "2                        ...                                Never-married   \n",
       "3                        ...                                Never-married   \n",
       "4                        ...                                Never-married   \n",
       "\n",
       "         occupation     relationship                 race  capital-gain  \\\n",
       "0    Prof-specialty          Husband                White             0   \n",
       "1   Farming-fishing        Unmarried                White             0   \n",
       "2    Prof-specialty    Not-in-family                White             0   \n",
       "3   Exec-managerial   Other-relative   Asian-Pac-Islander             0   \n",
       "4   Exec-managerial    Not-in-family                White             0   \n",
       "\n",
       "   capital-loss hours-per-week  native-country date_of_birth  \\\n",
       "0             0             40   United-States    1962-12-23   \n",
       "1             0             50   United-States    1978-04-07   \n",
       "2             0             32   United-States    1966-06-16   \n",
       "3             0             40     Philippines    1961-01-20   \n",
       "4             0             40   United-States    1956-11-17   \n",
       "\n",
       "                                        medical_info  \n",
       "0  {'TSH measured':'t','sex':'M','query hyperthyr...  \n",
       "1  {'TSH measured':'t','sex':'F','query hyperthyr...  \n",
       "2  {'TSH measured':'t','sex':'?','query hyperthyr...  \n",
       "3  {'TSH measured':'f','sex':'F','query hyperthyr...  \n",
       "4  {'TSH measured':'t','sex':'M','query hyperthyr...  \n",
       "\n",
       "[5 rows x 35 columns]"
      ]
     },
     "execution_count": 66,
     "metadata": {},
     "output_type": "execute_result"
    }
   ],
   "source": [
    "train = pd.read_csv('data/thyroid/train.csv')\n",
    "test = pd.read_csv('data/thyroid/test.csv')\n",
    "train.head()"
   ]
  },
  {
   "cell_type": "code",
   "execution_count": 67,
   "metadata": {},
   "outputs": [
    {
     "data": {
      "text/plain": [
       "f        2484\n",
       "FALSE     138\n",
       "F         138\n",
       "t          36\n",
       "T           2\n",
       "TRUE        2\n",
       "Name: query on thyroxine, dtype: int64"
      ]
     },
     "execution_count": 67,
     "metadata": {},
     "output_type": "execute_result"
    }
   ],
   "source": [
    "train['query on thyroxine'].value_counts()"
   ]
  },
  {
   "cell_type": "code",
   "execution_count": 68,
   "metadata": {},
   "outputs": [],
   "source": [
    "class Abc(TransformerMixin):\n",
    "    def __init__(self, column, source, target):\n",
    "        self.column = column\n",
    "        self.source = source\n",
    "        self.target = target\n",
    "        \n",
    "    def fit(self, df, y=None, **fit_params):\n",
    "        return self\n",
    "    \n",
    "    def transform(self, df, **transform_params):\n",
    "        sample = df[self.column] == self.source\n",
    "        df.loc[sample, self.column] = self.target\n",
    "        return df"
   ]
  },
  {
   "cell_type": "code",
   "execution_count": 69,
   "metadata": {},
   "outputs": [
    {
     "data": {
      "text/html": [
       "<div>\n",
       "<style scoped>\n",
       "    .dataframe tbody tr th:only-of-type {\n",
       "        vertical-align: middle;\n",
       "    }\n",
       "\n",
       "    .dataframe tbody tr th {\n",
       "        vertical-align: top;\n",
       "    }\n",
       "\n",
       "    .dataframe thead th {\n",
       "        text-align: right;\n",
       "    }\n",
       "</style>\n",
       "<table border=\"1\" class=\"dataframe\">\n",
       "  <thead>\n",
       "    <tr style=\"text-align: right;\">\n",
       "      <th></th>\n",
       "      <th>Unnamed: 0</th>\n",
       "      <th>age</th>\n",
       "      <th>on thyroxine</th>\n",
       "      <th>query on thyroxine</th>\n",
       "      <th>pregnant</th>\n",
       "      <th>thyroid surgery</th>\n",
       "      <th>I131 treatment</th>\n",
       "      <th>lithium</th>\n",
       "      <th>goitre</th>\n",
       "      <th>tumor</th>\n",
       "      <th>...</th>\n",
       "      <th>marital-status</th>\n",
       "      <th>occupation</th>\n",
       "      <th>relationship</th>\n",
       "      <th>race</th>\n",
       "      <th>capital-gain</th>\n",
       "      <th>capital-loss</th>\n",
       "      <th>hours-per-week</th>\n",
       "      <th>native-country</th>\n",
       "      <th>date_of_birth</th>\n",
       "      <th>medical_info</th>\n",
       "    </tr>\n",
       "  </thead>\n",
       "  <tbody>\n",
       "    <tr>\n",
       "      <th>0</th>\n",
       "      <td>0</td>\n",
       "      <td>55.0</td>\n",
       "      <td>f</td>\n",
       "      <td>f</td>\n",
       "      <td>f</td>\n",
       "      <td>f</td>\n",
       "      <td>f</td>\n",
       "      <td>f</td>\n",
       "      <td>f</td>\n",
       "      <td>f</td>\n",
       "      <td>...</td>\n",
       "      <td>Married-civ-spouse</td>\n",
       "      <td>Prof-specialty</td>\n",
       "      <td>Husband</td>\n",
       "      <td>White</td>\n",
       "      <td>0</td>\n",
       "      <td>0</td>\n",
       "      <td>40</td>\n",
       "      <td>United-States</td>\n",
       "      <td>1962-12-23</td>\n",
       "      <td>{'TSH measured':'t','sex':'M','query hyperthyr...</td>\n",
       "    </tr>\n",
       "    <tr>\n",
       "      <th>1</th>\n",
       "      <td>1</td>\n",
       "      <td>39.0</td>\n",
       "      <td>f</td>\n",
       "      <td>f</td>\n",
       "      <td>f</td>\n",
       "      <td>f</td>\n",
       "      <td>f</td>\n",
       "      <td>f</td>\n",
       "      <td>f</td>\n",
       "      <td>f</td>\n",
       "      <td>...</td>\n",
       "      <td>Widowed</td>\n",
       "      <td>Farming-fishing</td>\n",
       "      <td>Unmarried</td>\n",
       "      <td>White</td>\n",
       "      <td>0</td>\n",
       "      <td>0</td>\n",
       "      <td>50</td>\n",
       "      <td>United-States</td>\n",
       "      <td>1978-04-07</td>\n",
       "      <td>{'TSH measured':'t','sex':'F','query hyperthyr...</td>\n",
       "    </tr>\n",
       "    <tr>\n",
       "      <th>2</th>\n",
       "      <td>2</td>\n",
       "      <td>NaN</td>\n",
       "      <td>f</td>\n",
       "      <td>f</td>\n",
       "      <td>f</td>\n",
       "      <td>f</td>\n",
       "      <td>f</td>\n",
       "      <td>f</td>\n",
       "      <td>f</td>\n",
       "      <td>f</td>\n",
       "      <td>...</td>\n",
       "      <td>Never-married</td>\n",
       "      <td>Prof-specialty</td>\n",
       "      <td>Not-in-family</td>\n",
       "      <td>White</td>\n",
       "      <td>0</td>\n",
       "      <td>0</td>\n",
       "      <td>32</td>\n",
       "      <td>United-States</td>\n",
       "      <td>1966-06-16</td>\n",
       "      <td>{'TSH measured':'t','sex':'?','query hyperthyr...</td>\n",
       "    </tr>\n",
       "    <tr>\n",
       "      <th>3</th>\n",
       "      <td>3</td>\n",
       "      <td>57.0</td>\n",
       "      <td>f</td>\n",
       "      <td>f</td>\n",
       "      <td>f</td>\n",
       "      <td>f</td>\n",
       "      <td>f</td>\n",
       "      <td>f</td>\n",
       "      <td>f</td>\n",
       "      <td>f</td>\n",
       "      <td>...</td>\n",
       "      <td>Never-married</td>\n",
       "      <td>Exec-managerial</td>\n",
       "      <td>Other-relative</td>\n",
       "      <td>Asian-Pac-Islander</td>\n",
       "      <td>0</td>\n",
       "      <td>0</td>\n",
       "      <td>40</td>\n",
       "      <td>Philippines</td>\n",
       "      <td>1961-01-20</td>\n",
       "      <td>{'TSH measured':'f','sex':'F','query hyperthyr...</td>\n",
       "    </tr>\n",
       "    <tr>\n",
       "      <th>4</th>\n",
       "      <td>4</td>\n",
       "      <td>61.0</td>\n",
       "      <td>f</td>\n",
       "      <td>f</td>\n",
       "      <td>f</td>\n",
       "      <td>f</td>\n",
       "      <td>f</td>\n",
       "      <td>f</td>\n",
       "      <td>f</td>\n",
       "      <td>f</td>\n",
       "      <td>...</td>\n",
       "      <td>Never-married</td>\n",
       "      <td>Exec-managerial</td>\n",
       "      <td>Not-in-family</td>\n",
       "      <td>White</td>\n",
       "      <td>0</td>\n",
       "      <td>0</td>\n",
       "      <td>40</td>\n",
       "      <td>United-States</td>\n",
       "      <td>1956-11-17</td>\n",
       "      <td>{'TSH measured':'t','sex':'M','query hyperthyr...</td>\n",
       "    </tr>\n",
       "  </tbody>\n",
       "</table>\n",
       "<p>5 rows × 35 columns</p>\n",
       "</div>"
      ],
      "text/plain": [
       "   Unnamed: 0   age on thyroxine query on thyroxine pregnant thyroid surgery  \\\n",
       "0           0  55.0            f                  f        f               f   \n",
       "1           1  39.0            f                  f        f               f   \n",
       "2           2   NaN            f                  f        f               f   \n",
       "3           3  57.0            f                  f        f               f   \n",
       "4           4  61.0            f                  f        f               f   \n",
       "\n",
       "  I131 treatment lithium goitre tumor  \\\n",
       "0              f       f      f     f   \n",
       "1              f       f      f     f   \n",
       "2              f       f      f     f   \n",
       "3              f       f      f     f   \n",
       "4              f       f      f     f   \n",
       "\n",
       "                         ...                               marital-status  \\\n",
       "0                        ...                           Married-civ-spouse   \n",
       "1                        ...                                      Widowed   \n",
       "2                        ...                                Never-married   \n",
       "3                        ...                                Never-married   \n",
       "4                        ...                                Never-married   \n",
       "\n",
       "         occupation     relationship                 race  capital-gain  \\\n",
       "0    Prof-specialty          Husband                White             0   \n",
       "1   Farming-fishing        Unmarried                White             0   \n",
       "2    Prof-specialty    Not-in-family                White             0   \n",
       "3   Exec-managerial   Other-relative   Asian-Pac-Islander             0   \n",
       "4   Exec-managerial    Not-in-family                White             0   \n",
       "\n",
       "   capital-loss hours-per-week  native-country date_of_birth  \\\n",
       "0             0             40   United-States    1962-12-23   \n",
       "1             0             50   United-States    1978-04-07   \n",
       "2             0             32   United-States    1966-06-16   \n",
       "3             0             40     Philippines    1961-01-20   \n",
       "4             0             40   United-States    1956-11-17   \n",
       "\n",
       "                                        medical_info  \n",
       "0  {'TSH measured':'t','sex':'M','query hyperthyr...  \n",
       "1  {'TSH measured':'t','sex':'F','query hyperthyr...  \n",
       "2  {'TSH measured':'t','sex':'?','query hyperthyr...  \n",
       "3  {'TSH measured':'f','sex':'F','query hyperthyr...  \n",
       "4  {'TSH measured':'t','sex':'M','query hyperthyr...  \n",
       "\n",
       "[5 rows x 35 columns]"
      ]
     },
     "execution_count": 69,
     "metadata": {},
     "output_type": "execute_result"
    }
   ],
   "source": [
    "ppl = Pipeline([\n",
    "              ('name1', Abc('query on thyroxine', 'FALSE', 'f')),\n",
    "            ('name2', Abc('query on thyroxine', 'TRUE', 't')),\n",
    "            ('name3', Abc('query on thyroxine', 'F', 'f')),\n",
    "            ('name4', Abc('query on thyroxine', 'T', 't')),\n",
    "      ])\n",
    "\n",
    "model = ppl.fit(train)\n",
    "train_t = model.transform(train)\n",
    "test_t = model.transform(test)\n",
    "train_t.head()"
   ]
  },
  {
   "cell_type": "code",
   "execution_count": 70,
   "metadata": {},
   "outputs": [
    {
     "data": {
      "text/plain": [
       "f    2760\n",
       "t      40\n",
       "Name: query on thyroxine, dtype: int64"
      ]
     },
     "execution_count": 70,
     "metadata": {},
     "output_type": "execute_result"
    }
   ],
   "source": [
    "train_t['query on thyroxine'].value_counts()"
   ]
  }
 ],
 "metadata": {
  "kernelspec": {
   "display_name": "Python 3",
   "language": "python",
   "name": "python3"
  },
  "language_info": {
   "codemirror_mode": {
    "name": "ipython",
    "version": 3
   },
   "file_extension": ".py",
   "mimetype": "text/x-python",
   "name": "python",
   "nbconvert_exporter": "python",
   "pygments_lexer": "ipython3",
   "version": "3.6.4"
  }
 },
 "nbformat": 4,
 "nbformat_minor": 2
}
